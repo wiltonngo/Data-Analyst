{
 "cells": [
  {
   "cell_type": "code",
   "execution_count": 13,
   "id": "c14e4812-390a-42b2-9847-7d505a05ee2d",
   "metadata": {},
   "outputs": [],
   "source": [
    "import pandas as pd\n",
    "import numpy as np"
   ]
  },
  {
   "cell_type": "code",
   "execution_count": 6,
   "id": "600a376c-6fde-4816-b37a-769828cce38a",
   "metadata": {},
   "outputs": [
    {
     "data": {
      "text/html": [
       "<div>\n",
       "<style scoped>\n",
       "    .dataframe tbody tr th:only-of-type {\n",
       "        vertical-align: middle;\n",
       "    }\n",
       "\n",
       "    .dataframe tbody tr th {\n",
       "        vertical-align: top;\n",
       "    }\n",
       "\n",
       "    .dataframe thead th {\n",
       "        text-align: right;\n",
       "    }\n",
       "</style>\n",
       "<table border=\"1\" class=\"dataframe\">\n",
       "  <thead>\n",
       "    <tr style=\"text-align: right;\">\n",
       "      <th></th>\n",
       "      <th>Unnamed: 0</th>\n",
       "      <th>Job Title</th>\n",
       "      <th>Salary Estimate</th>\n",
       "      <th>Job Description</th>\n",
       "      <th>Rating</th>\n",
       "      <th>Company Name</th>\n",
       "      <th>Location</th>\n",
       "      <th>Headquarters</th>\n",
       "      <th>Size</th>\n",
       "      <th>Founded</th>\n",
       "      <th>Type of ownership</th>\n",
       "      <th>Industry</th>\n",
       "      <th>Sector</th>\n",
       "      <th>Revenue</th>\n",
       "      <th>Competitors</th>\n",
       "      <th>Easy Apply</th>\n",
       "    </tr>\n",
       "  </thead>\n",
       "  <tbody>\n",
       "    <tr>\n",
       "      <th>0</th>\n",
       "      <td>0</td>\n",
       "      <td>Data Analyst, Center on Immigration and Justic...</td>\n",
       "      <td>$37K-$66K (Glassdoor est.)</td>\n",
       "      <td>Are you eager to roll up your sleeves and harn...</td>\n",
       "      <td>3.2</td>\n",
       "      <td>Vera Institute of Justice\\n3.2</td>\n",
       "      <td>New York, NY</td>\n",
       "      <td>New York, NY</td>\n",
       "      <td>201 to 500 employees</td>\n",
       "      <td>1961</td>\n",
       "      <td>Nonprofit Organization</td>\n",
       "      <td>Social Assistance</td>\n",
       "      <td>Non-Profit</td>\n",
       "      <td>$100 to $500 million (USD)</td>\n",
       "      <td>-1</td>\n",
       "      <td>True</td>\n",
       "    </tr>\n",
       "    <tr>\n",
       "      <th>1</th>\n",
       "      <td>1</td>\n",
       "      <td>Quality Data Analyst</td>\n",
       "      <td>$37K-$66K (Glassdoor est.)</td>\n",
       "      <td>Overview\\n\\nProvides analytical and technical ...</td>\n",
       "      <td>3.8</td>\n",
       "      <td>Visiting Nurse Service of New York\\n3.8</td>\n",
       "      <td>New York, NY</td>\n",
       "      <td>New York, NY</td>\n",
       "      <td>10000+ employees</td>\n",
       "      <td>1893</td>\n",
       "      <td>Nonprofit Organization</td>\n",
       "      <td>Health Care Services &amp; Hospitals</td>\n",
       "      <td>Health Care</td>\n",
       "      <td>$2 to $5 billion (USD)</td>\n",
       "      <td>-1</td>\n",
       "      <td>-1</td>\n",
       "    </tr>\n",
       "    <tr>\n",
       "      <th>2</th>\n",
       "      <td>2</td>\n",
       "      <td>Senior Data Analyst, Insights &amp; Analytics Team...</td>\n",
       "      <td>$37K-$66K (Glassdoor est.)</td>\n",
       "      <td>We’re looking for a Senior Data Analyst who ha...</td>\n",
       "      <td>3.4</td>\n",
       "      <td>Squarespace\\n3.4</td>\n",
       "      <td>New York, NY</td>\n",
       "      <td>New York, NY</td>\n",
       "      <td>1001 to 5000 employees</td>\n",
       "      <td>2003</td>\n",
       "      <td>Company - Private</td>\n",
       "      <td>Internet</td>\n",
       "      <td>Information Technology</td>\n",
       "      <td>Unknown / Non-Applicable</td>\n",
       "      <td>GoDaddy</td>\n",
       "      <td>-1</td>\n",
       "    </tr>\n",
       "    <tr>\n",
       "      <th>3</th>\n",
       "      <td>3</td>\n",
       "      <td>Data Analyst</td>\n",
       "      <td>$37K-$66K (Glassdoor est.)</td>\n",
       "      <td>Requisition NumberRR-0001939\\nRemote:Yes\\nWe c...</td>\n",
       "      <td>4.1</td>\n",
       "      <td>Celerity\\n4.1</td>\n",
       "      <td>New York, NY</td>\n",
       "      <td>McLean, VA</td>\n",
       "      <td>201 to 500 employees</td>\n",
       "      <td>2002</td>\n",
       "      <td>Subsidiary or Business Segment</td>\n",
       "      <td>IT Services</td>\n",
       "      <td>Information Technology</td>\n",
       "      <td>$50 to $100 million (USD)</td>\n",
       "      <td>-1</td>\n",
       "      <td>-1</td>\n",
       "    </tr>\n",
       "    <tr>\n",
       "      <th>4</th>\n",
       "      <td>4</td>\n",
       "      <td>Reporting Data Analyst</td>\n",
       "      <td>$37K-$66K (Glassdoor est.)</td>\n",
       "      <td>ABOUT FANDUEL GROUP\\n\\nFanDuel Group is a worl...</td>\n",
       "      <td>3.9</td>\n",
       "      <td>FanDuel\\n3.9</td>\n",
       "      <td>New York, NY</td>\n",
       "      <td>New York, NY</td>\n",
       "      <td>501 to 1000 employees</td>\n",
       "      <td>2009</td>\n",
       "      <td>Company - Private</td>\n",
       "      <td>Sports &amp; Recreation</td>\n",
       "      <td>Arts, Entertainment &amp; Recreation</td>\n",
       "      <td>$100 to $500 million (USD)</td>\n",
       "      <td>DraftKings</td>\n",
       "      <td>True</td>\n",
       "    </tr>\n",
       "    <tr>\n",
       "      <th>...</th>\n",
       "      <td>...</td>\n",
       "      <td>...</td>\n",
       "      <td>...</td>\n",
       "      <td>...</td>\n",
       "      <td>...</td>\n",
       "      <td>...</td>\n",
       "      <td>...</td>\n",
       "      <td>...</td>\n",
       "      <td>...</td>\n",
       "      <td>...</td>\n",
       "      <td>...</td>\n",
       "      <td>...</td>\n",
       "      <td>...</td>\n",
       "      <td>...</td>\n",
       "      <td>...</td>\n",
       "      <td>...</td>\n",
       "    </tr>\n",
       "    <tr>\n",
       "      <th>2248</th>\n",
       "      <td>2248</td>\n",
       "      <td>RQS - IHHA - 201900004460 -1q Data Security An...</td>\n",
       "      <td>$78K-$104K (Glassdoor est.)</td>\n",
       "      <td>Maintains systems to protect data from unautho...</td>\n",
       "      <td>2.5</td>\n",
       "      <td>Avacend, Inc.\\n2.5</td>\n",
       "      <td>Denver, CO</td>\n",
       "      <td>Alpharetta, GA</td>\n",
       "      <td>51 to 200 employees</td>\n",
       "      <td>-1</td>\n",
       "      <td>Company - Private</td>\n",
       "      <td>Staffing &amp; Outsourcing</td>\n",
       "      <td>Business Services</td>\n",
       "      <td>Unknown / Non-Applicable</td>\n",
       "      <td>-1</td>\n",
       "      <td>-1</td>\n",
       "    </tr>\n",
       "    <tr>\n",
       "      <th>2249</th>\n",
       "      <td>2249</td>\n",
       "      <td>Senior Data Analyst (Corporate Audit)</td>\n",
       "      <td>$78K-$104K (Glassdoor est.)</td>\n",
       "      <td>Position:\\nSenior Data Analyst (Corporate Audi...</td>\n",
       "      <td>2.9</td>\n",
       "      <td>Arrow Electronics\\n2.9</td>\n",
       "      <td>Centennial, CO</td>\n",
       "      <td>Centennial, CO</td>\n",
       "      <td>10000+ employees</td>\n",
       "      <td>1935</td>\n",
       "      <td>Company - Public</td>\n",
       "      <td>Wholesale</td>\n",
       "      <td>Business Services</td>\n",
       "      <td>$10+ billion (USD)</td>\n",
       "      <td>Avnet, Ingram Micro, Tech Data</td>\n",
       "      <td>-1</td>\n",
       "    </tr>\n",
       "    <tr>\n",
       "      <th>2250</th>\n",
       "      <td>2250</td>\n",
       "      <td>Technical Business Analyst (SQL, Data analytic...</td>\n",
       "      <td>$78K-$104K (Glassdoor est.)</td>\n",
       "      <td>Title: Technical Business Analyst (SQL, Data a...</td>\n",
       "      <td>-1.0</td>\n",
       "      <td>Spiceorb</td>\n",
       "      <td>Denver, CO</td>\n",
       "      <td>-1</td>\n",
       "      <td>-1</td>\n",
       "      <td>-1</td>\n",
       "      <td>-1</td>\n",
       "      <td>-1</td>\n",
       "      <td>-1</td>\n",
       "      <td>-1</td>\n",
       "      <td>-1</td>\n",
       "      <td>-1</td>\n",
       "    </tr>\n",
       "    <tr>\n",
       "      <th>2251</th>\n",
       "      <td>2251</td>\n",
       "      <td>Data Analyst 3, Customer Experience</td>\n",
       "      <td>$78K-$104K (Glassdoor est.)</td>\n",
       "      <td>Summary\\n\\nResponsible for working cross-funct...</td>\n",
       "      <td>3.1</td>\n",
       "      <td>Contingent Network Services\\n3.1</td>\n",
       "      <td>Centennial, CO</td>\n",
       "      <td>West Chester, OH</td>\n",
       "      <td>201 to 500 employees</td>\n",
       "      <td>1984</td>\n",
       "      <td>Company - Private</td>\n",
       "      <td>Enterprise Software &amp; Network Solutions</td>\n",
       "      <td>Information Technology</td>\n",
       "      <td>$25 to $50 million (USD)</td>\n",
       "      <td>-1</td>\n",
       "      <td>-1</td>\n",
       "    </tr>\n",
       "    <tr>\n",
       "      <th>2252</th>\n",
       "      <td>2252</td>\n",
       "      <td>Senior Quality Data Analyst</td>\n",
       "      <td>$78K-$104K (Glassdoor est.)</td>\n",
       "      <td>You.\\n\\nYou bring your body, mind, heart and s...</td>\n",
       "      <td>3.4</td>\n",
       "      <td>SCL Health\\n3.4</td>\n",
       "      <td>Broomfield, CO</td>\n",
       "      <td>Broomfield, CO</td>\n",
       "      <td>10000+ employees</td>\n",
       "      <td>1864</td>\n",
       "      <td>Nonprofit Organization</td>\n",
       "      <td>Health Care Services &amp; Hospitals</td>\n",
       "      <td>Health Care</td>\n",
       "      <td>$2 to $5 billion (USD)</td>\n",
       "      <td>Centura Health, HealthONE, Denver Health and H...</td>\n",
       "      <td>-1</td>\n",
       "    </tr>\n",
       "  </tbody>\n",
       "</table>\n",
       "<p>2253 rows × 16 columns</p>\n",
       "</div>"
      ],
      "text/plain": [
       "      Unnamed: 0                                          Job Title  \\\n",
       "0              0  Data Analyst, Center on Immigration and Justic...   \n",
       "1              1                               Quality Data Analyst   \n",
       "2              2  Senior Data Analyst, Insights & Analytics Team...   \n",
       "3              3                                       Data Analyst   \n",
       "4              4                             Reporting Data Analyst   \n",
       "...          ...                                                ...   \n",
       "2248        2248  RQS - IHHA - 201900004460 -1q Data Security An...   \n",
       "2249        2249              Senior Data Analyst (Corporate Audit)   \n",
       "2250        2250  Technical Business Analyst (SQL, Data analytic...   \n",
       "2251        2251                Data Analyst 3, Customer Experience   \n",
       "2252        2252                        Senior Quality Data Analyst   \n",
       "\n",
       "                  Salary Estimate  \\\n",
       "0      $37K-$66K (Glassdoor est.)   \n",
       "1      $37K-$66K (Glassdoor est.)   \n",
       "2      $37K-$66K (Glassdoor est.)   \n",
       "3      $37K-$66K (Glassdoor est.)   \n",
       "4      $37K-$66K (Glassdoor est.)   \n",
       "...                           ...   \n",
       "2248  $78K-$104K (Glassdoor est.)   \n",
       "2249  $78K-$104K (Glassdoor est.)   \n",
       "2250  $78K-$104K (Glassdoor est.)   \n",
       "2251  $78K-$104K (Glassdoor est.)   \n",
       "2252  $78K-$104K (Glassdoor est.)   \n",
       "\n",
       "                                        Job Description  Rating  \\\n",
       "0     Are you eager to roll up your sleeves and harn...     3.2   \n",
       "1     Overview\\n\\nProvides analytical and technical ...     3.8   \n",
       "2     We’re looking for a Senior Data Analyst who ha...     3.4   \n",
       "3     Requisition NumberRR-0001939\\nRemote:Yes\\nWe c...     4.1   \n",
       "4     ABOUT FANDUEL GROUP\\n\\nFanDuel Group is a worl...     3.9   \n",
       "...                                                 ...     ...   \n",
       "2248  Maintains systems to protect data from unautho...     2.5   \n",
       "2249  Position:\\nSenior Data Analyst (Corporate Audi...     2.9   \n",
       "2250  Title: Technical Business Analyst (SQL, Data a...    -1.0   \n",
       "2251  Summary\\n\\nResponsible for working cross-funct...     3.1   \n",
       "2252  You.\\n\\nYou bring your body, mind, heart and s...     3.4   \n",
       "\n",
       "                                 Company Name        Location  \\\n",
       "0              Vera Institute of Justice\\n3.2    New York, NY   \n",
       "1     Visiting Nurse Service of New York\\n3.8    New York, NY   \n",
       "2                            Squarespace\\n3.4    New York, NY   \n",
       "3                               Celerity\\n4.1    New York, NY   \n",
       "4                                FanDuel\\n3.9    New York, NY   \n",
       "...                                       ...             ...   \n",
       "2248                       Avacend, Inc.\\n2.5      Denver, CO   \n",
       "2249                   Arrow Electronics\\n2.9  Centennial, CO   \n",
       "2250                                 Spiceorb      Denver, CO   \n",
       "2251         Contingent Network Services\\n3.1  Centennial, CO   \n",
       "2252                          SCL Health\\n3.4  Broomfield, CO   \n",
       "\n",
       "          Headquarters                    Size  Founded  \\\n",
       "0         New York, NY    201 to 500 employees     1961   \n",
       "1         New York, NY        10000+ employees     1893   \n",
       "2         New York, NY  1001 to 5000 employees     2003   \n",
       "3           McLean, VA    201 to 500 employees     2002   \n",
       "4         New York, NY   501 to 1000 employees     2009   \n",
       "...                ...                     ...      ...   \n",
       "2248    Alpharetta, GA     51 to 200 employees       -1   \n",
       "2249    Centennial, CO        10000+ employees     1935   \n",
       "2250                -1                      -1       -1   \n",
       "2251  West Chester, OH    201 to 500 employees     1984   \n",
       "2252    Broomfield, CO        10000+ employees     1864   \n",
       "\n",
       "                   Type of ownership                                 Industry  \\\n",
       "0             Nonprofit Organization                        Social Assistance   \n",
       "1             Nonprofit Organization         Health Care Services & Hospitals   \n",
       "2                  Company - Private                                 Internet   \n",
       "3     Subsidiary or Business Segment                              IT Services   \n",
       "4                  Company - Private                      Sports & Recreation   \n",
       "...                              ...                                      ...   \n",
       "2248               Company - Private                   Staffing & Outsourcing   \n",
       "2249                Company - Public                                Wholesale   \n",
       "2250                              -1                                       -1   \n",
       "2251               Company - Private  Enterprise Software & Network Solutions   \n",
       "2252          Nonprofit Organization         Health Care Services & Hospitals   \n",
       "\n",
       "                                Sector                     Revenue  \\\n",
       "0                           Non-Profit  $100 to $500 million (USD)   \n",
       "1                          Health Care      $2 to $5 billion (USD)   \n",
       "2               Information Technology    Unknown / Non-Applicable   \n",
       "3               Information Technology   $50 to $100 million (USD)   \n",
       "4     Arts, Entertainment & Recreation  $100 to $500 million (USD)   \n",
       "...                                ...                         ...   \n",
       "2248                 Business Services    Unknown / Non-Applicable   \n",
       "2249                 Business Services          $10+ billion (USD)   \n",
       "2250                                -1                          -1   \n",
       "2251            Information Technology    $25 to $50 million (USD)   \n",
       "2252                       Health Care      $2 to $5 billion (USD)   \n",
       "\n",
       "                                            Competitors Easy Apply  \n",
       "0                                                    -1       True  \n",
       "1                                                    -1         -1  \n",
       "2                                               GoDaddy         -1  \n",
       "3                                                    -1         -1  \n",
       "4                                            DraftKings       True  \n",
       "...                                                 ...        ...  \n",
       "2248                                                 -1         -1  \n",
       "2249                     Avnet, Ingram Micro, Tech Data         -1  \n",
       "2250                                                 -1         -1  \n",
       "2251                                                 -1         -1  \n",
       "2252  Centura Health, HealthONE, Denver Health and H...         -1  \n",
       "\n",
       "[2253 rows x 16 columns]"
      ]
     },
     "execution_count": 6,
     "metadata": {},
     "output_type": "execute_result"
    }
   ],
   "source": [
    "Data_Analyst = pd.read_csv('/Users/wiltonngo/Downloads/DataAnalyst.csv')\n",
    "Data_Analyst"
   ]
  },
  {
   "cell_type": "code",
   "execution_count": 7,
   "id": "fafb6aa8-60ab-4544-b8ff-83dccfdf9010",
   "metadata": {},
   "outputs": [
    {
     "name": "stdout",
     "output_type": "stream",
     "text": [
      "<class 'pandas.core.frame.DataFrame'>\n",
      "RangeIndex: 2253 entries, 0 to 2252\n",
      "Data columns (total 16 columns):\n",
      " #   Column             Non-Null Count  Dtype  \n",
      "---  ------             --------------  -----  \n",
      " 0   Unnamed: 0         2253 non-null   int64  \n",
      " 1   Job Title          2253 non-null   object \n",
      " 2   Salary Estimate    2253 non-null   object \n",
      " 3   Job Description    2253 non-null   object \n",
      " 4   Rating             2253 non-null   float64\n",
      " 5   Company Name       2252 non-null   object \n",
      " 6   Location           2253 non-null   object \n",
      " 7   Headquarters       2253 non-null   object \n",
      " 8   Size               2253 non-null   object \n",
      " 9   Founded            2253 non-null   int64  \n",
      " 10  Type of ownership  2253 non-null   object \n",
      " 11  Industry           2253 non-null   object \n",
      " 12  Sector             2253 non-null   object \n",
      " 13  Revenue            2253 non-null   object \n",
      " 14  Competitors        2253 non-null   object \n",
      " 15  Easy Apply         2253 non-null   object \n",
      "dtypes: float64(1), int64(2), object(13)\n",
      "memory usage: 281.8+ KB\n"
     ]
    }
   ],
   "source": [
    "Data_Analyst.info()"
   ]
  },
  {
   "cell_type": "code",
   "execution_count": 8,
   "id": "769a47cf-c721-48a4-b2ae-c397705fbee5",
   "metadata": {},
   "outputs": [
    {
     "data": {
      "text/html": [
       "<div>\n",
       "<style scoped>\n",
       "    .dataframe tbody tr th:only-of-type {\n",
       "        vertical-align: middle;\n",
       "    }\n",
       "\n",
       "    .dataframe tbody tr th {\n",
       "        vertical-align: top;\n",
       "    }\n",
       "\n",
       "    .dataframe thead th {\n",
       "        text-align: right;\n",
       "    }\n",
       "</style>\n",
       "<table border=\"1\" class=\"dataframe\">\n",
       "  <thead>\n",
       "    <tr style=\"text-align: right;\">\n",
       "      <th></th>\n",
       "      <th>Unnamed: 0</th>\n",
       "      <th>Job Title</th>\n",
       "      <th>Salary Estimate</th>\n",
       "      <th>Job Description</th>\n",
       "      <th>Rating</th>\n",
       "      <th>Company Name</th>\n",
       "      <th>Location</th>\n",
       "      <th>Headquarters</th>\n",
       "      <th>Size</th>\n",
       "      <th>Founded</th>\n",
       "      <th>Type of ownership</th>\n",
       "      <th>Industry</th>\n",
       "      <th>Sector</th>\n",
       "      <th>Revenue</th>\n",
       "      <th>Competitors</th>\n",
       "      <th>Easy Apply</th>\n",
       "    </tr>\n",
       "  </thead>\n",
       "  <tbody>\n",
       "    <tr>\n",
       "      <th>2248</th>\n",
       "      <td>2248</td>\n",
       "      <td>RQS - IHHA - 201900004460 -1q Data Security An...</td>\n",
       "      <td>$78K-$104K (Glassdoor est.)</td>\n",
       "      <td>Maintains systems to protect data from unautho...</td>\n",
       "      <td>2.5</td>\n",
       "      <td>Avacend, Inc.\\n2.5</td>\n",
       "      <td>Denver, CO</td>\n",
       "      <td>Alpharetta, GA</td>\n",
       "      <td>51 to 200 employees</td>\n",
       "      <td>-1</td>\n",
       "      <td>Company - Private</td>\n",
       "      <td>Staffing &amp; Outsourcing</td>\n",
       "      <td>Business Services</td>\n",
       "      <td>Unknown / Non-Applicable</td>\n",
       "      <td>-1</td>\n",
       "      <td>-1</td>\n",
       "    </tr>\n",
       "    <tr>\n",
       "      <th>2249</th>\n",
       "      <td>2249</td>\n",
       "      <td>Senior Data Analyst (Corporate Audit)</td>\n",
       "      <td>$78K-$104K (Glassdoor est.)</td>\n",
       "      <td>Position:\\nSenior Data Analyst (Corporate Audi...</td>\n",
       "      <td>2.9</td>\n",
       "      <td>Arrow Electronics\\n2.9</td>\n",
       "      <td>Centennial, CO</td>\n",
       "      <td>Centennial, CO</td>\n",
       "      <td>10000+ employees</td>\n",
       "      <td>1935</td>\n",
       "      <td>Company - Public</td>\n",
       "      <td>Wholesale</td>\n",
       "      <td>Business Services</td>\n",
       "      <td>$10+ billion (USD)</td>\n",
       "      <td>Avnet, Ingram Micro, Tech Data</td>\n",
       "      <td>-1</td>\n",
       "    </tr>\n",
       "    <tr>\n",
       "      <th>2250</th>\n",
       "      <td>2250</td>\n",
       "      <td>Technical Business Analyst (SQL, Data analytic...</td>\n",
       "      <td>$78K-$104K (Glassdoor est.)</td>\n",
       "      <td>Title: Technical Business Analyst (SQL, Data a...</td>\n",
       "      <td>-1.0</td>\n",
       "      <td>Spiceorb</td>\n",
       "      <td>Denver, CO</td>\n",
       "      <td>-1</td>\n",
       "      <td>-1</td>\n",
       "      <td>-1</td>\n",
       "      <td>-1</td>\n",
       "      <td>-1</td>\n",
       "      <td>-1</td>\n",
       "      <td>-1</td>\n",
       "      <td>-1</td>\n",
       "      <td>-1</td>\n",
       "    </tr>\n",
       "    <tr>\n",
       "      <th>2251</th>\n",
       "      <td>2251</td>\n",
       "      <td>Data Analyst 3, Customer Experience</td>\n",
       "      <td>$78K-$104K (Glassdoor est.)</td>\n",
       "      <td>Summary\\n\\nResponsible for working cross-funct...</td>\n",
       "      <td>3.1</td>\n",
       "      <td>Contingent Network Services\\n3.1</td>\n",
       "      <td>Centennial, CO</td>\n",
       "      <td>West Chester, OH</td>\n",
       "      <td>201 to 500 employees</td>\n",
       "      <td>1984</td>\n",
       "      <td>Company - Private</td>\n",
       "      <td>Enterprise Software &amp; Network Solutions</td>\n",
       "      <td>Information Technology</td>\n",
       "      <td>$25 to $50 million (USD)</td>\n",
       "      <td>-1</td>\n",
       "      <td>-1</td>\n",
       "    </tr>\n",
       "    <tr>\n",
       "      <th>2252</th>\n",
       "      <td>2252</td>\n",
       "      <td>Senior Quality Data Analyst</td>\n",
       "      <td>$78K-$104K (Glassdoor est.)</td>\n",
       "      <td>You.\\n\\nYou bring your body, mind, heart and s...</td>\n",
       "      <td>3.4</td>\n",
       "      <td>SCL Health\\n3.4</td>\n",
       "      <td>Broomfield, CO</td>\n",
       "      <td>Broomfield, CO</td>\n",
       "      <td>10000+ employees</td>\n",
       "      <td>1864</td>\n",
       "      <td>Nonprofit Organization</td>\n",
       "      <td>Health Care Services &amp; Hospitals</td>\n",
       "      <td>Health Care</td>\n",
       "      <td>$2 to $5 billion (USD)</td>\n",
       "      <td>Centura Health, HealthONE, Denver Health and H...</td>\n",
       "      <td>-1</td>\n",
       "    </tr>\n",
       "  </tbody>\n",
       "</table>\n",
       "</div>"
      ],
      "text/plain": [
       "      Unnamed: 0                                          Job Title  \\\n",
       "2248        2248  RQS - IHHA - 201900004460 -1q Data Security An...   \n",
       "2249        2249              Senior Data Analyst (Corporate Audit)   \n",
       "2250        2250  Technical Business Analyst (SQL, Data analytic...   \n",
       "2251        2251                Data Analyst 3, Customer Experience   \n",
       "2252        2252                        Senior Quality Data Analyst   \n",
       "\n",
       "                  Salary Estimate  \\\n",
       "2248  $78K-$104K (Glassdoor est.)   \n",
       "2249  $78K-$104K (Glassdoor est.)   \n",
       "2250  $78K-$104K (Glassdoor est.)   \n",
       "2251  $78K-$104K (Glassdoor est.)   \n",
       "2252  $78K-$104K (Glassdoor est.)   \n",
       "\n",
       "                                        Job Description  Rating  \\\n",
       "2248  Maintains systems to protect data from unautho...     2.5   \n",
       "2249  Position:\\nSenior Data Analyst (Corporate Audi...     2.9   \n",
       "2250  Title: Technical Business Analyst (SQL, Data a...    -1.0   \n",
       "2251  Summary\\n\\nResponsible for working cross-funct...     3.1   \n",
       "2252  You.\\n\\nYou bring your body, mind, heart and s...     3.4   \n",
       "\n",
       "                          Company Name        Location      Headquarters  \\\n",
       "2248                Avacend, Inc.\\n2.5      Denver, CO    Alpharetta, GA   \n",
       "2249            Arrow Electronics\\n2.9  Centennial, CO    Centennial, CO   \n",
       "2250                          Spiceorb      Denver, CO                -1   \n",
       "2251  Contingent Network Services\\n3.1  Centennial, CO  West Chester, OH   \n",
       "2252                   SCL Health\\n3.4  Broomfield, CO    Broomfield, CO   \n",
       "\n",
       "                      Size  Founded       Type of ownership  \\\n",
       "2248   51 to 200 employees       -1       Company - Private   \n",
       "2249      10000+ employees     1935        Company - Public   \n",
       "2250                    -1       -1                      -1   \n",
       "2251  201 to 500 employees     1984       Company - Private   \n",
       "2252      10000+ employees     1864  Nonprofit Organization   \n",
       "\n",
       "                                     Industry                  Sector  \\\n",
       "2248                   Staffing & Outsourcing       Business Services   \n",
       "2249                                Wholesale       Business Services   \n",
       "2250                                       -1                      -1   \n",
       "2251  Enterprise Software & Network Solutions  Information Technology   \n",
       "2252         Health Care Services & Hospitals             Health Care   \n",
       "\n",
       "                       Revenue  \\\n",
       "2248  Unknown / Non-Applicable   \n",
       "2249        $10+ billion (USD)   \n",
       "2250                        -1   \n",
       "2251  $25 to $50 million (USD)   \n",
       "2252    $2 to $5 billion (USD)   \n",
       "\n",
       "                                            Competitors Easy Apply  \n",
       "2248                                                 -1         -1  \n",
       "2249                     Avnet, Ingram Micro, Tech Data         -1  \n",
       "2250                                                 -1         -1  \n",
       "2251                                                 -1         -1  \n",
       "2252  Centura Health, HealthONE, Denver Health and H...         -1  "
      ]
     },
     "execution_count": 8,
     "metadata": {},
     "output_type": "execute_result"
    }
   ],
   "source": [
    "Data_Analyst.tail()"
   ]
  },
  {
   "cell_type": "markdown",
   "id": "4362373d-231e-42fb-8c3e-dc749626d4cd",
   "metadata": {},
   "source": [
    "# Preparing Dataset for the EDA"
   ]
  },
  {
   "cell_type": "markdown",
   "id": "077c619b-b9ee-4678-90d2-42faf6c0bd3c",
   "metadata": {},
   "source": [
    "### Look for the missing Values"
   ]
  },
  {
   "cell_type": "markdown",
   "id": "2f7265ff-8ed5-4fb7-b70d-486570890fd3",
   "metadata": {},
   "source": [
    "### Look for the area of Interest"
   ]
  },
  {
   "cell_type": "code",
   "execution_count": 9,
   "id": "aa23eca9-3e0e-43d6-b4c3-099aff23b144",
   "metadata": {},
   "outputs": [
    {
     "data": {
      "text/plain": [
       "Unnamed: 0           0\n",
       "Job Title            0\n",
       "Salary Estimate      0\n",
       "Job Description      0\n",
       "Rating               0\n",
       "Company Name         1\n",
       "Location             0\n",
       "Headquarters         0\n",
       "Size                 0\n",
       "Founded              0\n",
       "Type of ownership    0\n",
       "Industry             0\n",
       "Sector               0\n",
       "Revenue              0\n",
       "Competitors          0\n",
       "Easy Apply           0\n",
       "dtype: int64"
      ]
     },
     "execution_count": 9,
     "metadata": {},
     "output_type": "execute_result"
    }
   ],
   "source": [
    "Data_Analyst.isnull().sum()"
   ]
  },
  {
   "cell_type": "code",
   "execution_count": null,
   "id": "84b97d95-69f3-4e27-a6ed-a5fa007d2823",
   "metadata": {},
   "outputs": [],
   "source": []
  },
  {
   "cell_type": "markdown",
   "id": "eeb49787-41b7-4769-be70-247a464031db",
   "metadata": {},
   "source": [
    "### Most of the time in the real world Datsets, unkown and missing values are not recorded like software recongizable verson of the missing value. Usually as a data person, we have to detect and deal with them"
   ]
  },
  {
   "cell_type": "markdown",
   "id": "ff2f4f50-6722-4da6-933b-550f5e0438cf",
   "metadata": {},
   "source": [
    "### So let's make (-1) as a missing value"
   ]
  },
  {
   "cell_type": "code",
   "execution_count": 14,
   "id": "7cab250c-fc77-4145-9576-cf5b7718e0f9",
   "metadata": {},
   "outputs": [
    {
     "data": {
      "text/html": [
       "<div>\n",
       "<style scoped>\n",
       "    .dataframe tbody tr th:only-of-type {\n",
       "        vertical-align: middle;\n",
       "    }\n",
       "\n",
       "    .dataframe tbody tr th {\n",
       "        vertical-align: top;\n",
       "    }\n",
       "\n",
       "    .dataframe thead th {\n",
       "        text-align: right;\n",
       "    }\n",
       "</style>\n",
       "<table border=\"1\" class=\"dataframe\">\n",
       "  <thead>\n",
       "    <tr style=\"text-align: right;\">\n",
       "      <th></th>\n",
       "      <th>Unnamed: 0</th>\n",
       "      <th>Job Title</th>\n",
       "      <th>Salary Estimate</th>\n",
       "      <th>Job Description</th>\n",
       "      <th>Rating</th>\n",
       "      <th>Company Name</th>\n",
       "      <th>Location</th>\n",
       "      <th>Headquarters</th>\n",
       "      <th>Size</th>\n",
       "      <th>Founded</th>\n",
       "      <th>Type of ownership</th>\n",
       "      <th>Industry</th>\n",
       "      <th>Sector</th>\n",
       "      <th>Revenue</th>\n",
       "      <th>Competitors</th>\n",
       "      <th>Easy Apply</th>\n",
       "    </tr>\n",
       "  </thead>\n",
       "  <tbody>\n",
       "    <tr>\n",
       "      <th>0</th>\n",
       "      <td>0</td>\n",
       "      <td>Data Analyst, Center on Immigration and Justic...</td>\n",
       "      <td>$37K-$66K (Glassdoor est.)</td>\n",
       "      <td>Are you eager to roll up your sleeves and harn...</td>\n",
       "      <td>3.2</td>\n",
       "      <td>Vera Institute of Justice\\n3.2</td>\n",
       "      <td>New York, NY</td>\n",
       "      <td>New York, NY</td>\n",
       "      <td>201 to 500 employees</td>\n",
       "      <td>1961</td>\n",
       "      <td>Nonprofit Organization</td>\n",
       "      <td>Social Assistance</td>\n",
       "      <td>Non-Profit</td>\n",
       "      <td>$100 to $500 million (USD)</td>\n",
       "      <td>NaN</td>\n",
       "      <td>True</td>\n",
       "    </tr>\n",
       "    <tr>\n",
       "      <th>1</th>\n",
       "      <td>1</td>\n",
       "      <td>Quality Data Analyst</td>\n",
       "      <td>$37K-$66K (Glassdoor est.)</td>\n",
       "      <td>Overview\\n\\nProvides analytical and technical ...</td>\n",
       "      <td>3.8</td>\n",
       "      <td>Visiting Nurse Service of New York\\n3.8</td>\n",
       "      <td>New York, NY</td>\n",
       "      <td>New York, NY</td>\n",
       "      <td>10000+ employees</td>\n",
       "      <td>1893</td>\n",
       "      <td>Nonprofit Organization</td>\n",
       "      <td>Health Care Services &amp; Hospitals</td>\n",
       "      <td>Health Care</td>\n",
       "      <td>$2 to $5 billion (USD)</td>\n",
       "      <td>NaN</td>\n",
       "      <td>NaN</td>\n",
       "    </tr>\n",
       "    <tr>\n",
       "      <th>2</th>\n",
       "      <td>2</td>\n",
       "      <td>Senior Data Analyst, Insights &amp; Analytics Team...</td>\n",
       "      <td>$37K-$66K (Glassdoor est.)</td>\n",
       "      <td>We’re looking for a Senior Data Analyst who ha...</td>\n",
       "      <td>3.4</td>\n",
       "      <td>Squarespace\\n3.4</td>\n",
       "      <td>New York, NY</td>\n",
       "      <td>New York, NY</td>\n",
       "      <td>1001 to 5000 employees</td>\n",
       "      <td>2003</td>\n",
       "      <td>Company - Private</td>\n",
       "      <td>Internet</td>\n",
       "      <td>Information Technology</td>\n",
       "      <td>Unknown / Non-Applicable</td>\n",
       "      <td>GoDaddy</td>\n",
       "      <td>NaN</td>\n",
       "    </tr>\n",
       "    <tr>\n",
       "      <th>3</th>\n",
       "      <td>3</td>\n",
       "      <td>Data Analyst</td>\n",
       "      <td>$37K-$66K (Glassdoor est.)</td>\n",
       "      <td>Requisition NumberRR-0001939\\nRemote:Yes\\nWe c...</td>\n",
       "      <td>4.1</td>\n",
       "      <td>Celerity\\n4.1</td>\n",
       "      <td>New York, NY</td>\n",
       "      <td>McLean, VA</td>\n",
       "      <td>201 to 500 employees</td>\n",
       "      <td>2002</td>\n",
       "      <td>Subsidiary or Business Segment</td>\n",
       "      <td>IT Services</td>\n",
       "      <td>Information Technology</td>\n",
       "      <td>$50 to $100 million (USD)</td>\n",
       "      <td>NaN</td>\n",
       "      <td>NaN</td>\n",
       "    </tr>\n",
       "    <tr>\n",
       "      <th>4</th>\n",
       "      <td>4</td>\n",
       "      <td>Reporting Data Analyst</td>\n",
       "      <td>$37K-$66K (Glassdoor est.)</td>\n",
       "      <td>ABOUT FANDUEL GROUP\\n\\nFanDuel Group is a worl...</td>\n",
       "      <td>3.9</td>\n",
       "      <td>FanDuel\\n3.9</td>\n",
       "      <td>New York, NY</td>\n",
       "      <td>New York, NY</td>\n",
       "      <td>501 to 1000 employees</td>\n",
       "      <td>2009</td>\n",
       "      <td>Company - Private</td>\n",
       "      <td>Sports &amp; Recreation</td>\n",
       "      <td>Arts, Entertainment &amp; Recreation</td>\n",
       "      <td>$100 to $500 million (USD)</td>\n",
       "      <td>DraftKings</td>\n",
       "      <td>True</td>\n",
       "    </tr>\n",
       "    <tr>\n",
       "      <th>...</th>\n",
       "      <td>...</td>\n",
       "      <td>...</td>\n",
       "      <td>...</td>\n",
       "      <td>...</td>\n",
       "      <td>...</td>\n",
       "      <td>...</td>\n",
       "      <td>...</td>\n",
       "      <td>...</td>\n",
       "      <td>...</td>\n",
       "      <td>...</td>\n",
       "      <td>...</td>\n",
       "      <td>...</td>\n",
       "      <td>...</td>\n",
       "      <td>...</td>\n",
       "      <td>...</td>\n",
       "      <td>...</td>\n",
       "    </tr>\n",
       "    <tr>\n",
       "      <th>2248</th>\n",
       "      <td>2248</td>\n",
       "      <td>RQS - IHHA - 201900004460 -1q Data Security An...</td>\n",
       "      <td>$78K-$104K (Glassdoor est.)</td>\n",
       "      <td>Maintains systems to protect data from unautho...</td>\n",
       "      <td>2.5</td>\n",
       "      <td>Avacend, Inc.\\n2.5</td>\n",
       "      <td>Denver, CO</td>\n",
       "      <td>Alpharetta, GA</td>\n",
       "      <td>51 to 200 employees</td>\n",
       "      <td>-1</td>\n",
       "      <td>Company - Private</td>\n",
       "      <td>Staffing &amp; Outsourcing</td>\n",
       "      <td>Business Services</td>\n",
       "      <td>Unknown / Non-Applicable</td>\n",
       "      <td>NaN</td>\n",
       "      <td>NaN</td>\n",
       "    </tr>\n",
       "    <tr>\n",
       "      <th>2249</th>\n",
       "      <td>2249</td>\n",
       "      <td>Senior Data Analyst (Corporate Audit)</td>\n",
       "      <td>$78K-$104K (Glassdoor est.)</td>\n",
       "      <td>Position:\\nSenior Data Analyst (Corporate Audi...</td>\n",
       "      <td>2.9</td>\n",
       "      <td>Arrow Electronics\\n2.9</td>\n",
       "      <td>Centennial, CO</td>\n",
       "      <td>Centennial, CO</td>\n",
       "      <td>10000+ employees</td>\n",
       "      <td>1935</td>\n",
       "      <td>Company - Public</td>\n",
       "      <td>Wholesale</td>\n",
       "      <td>Business Services</td>\n",
       "      <td>$10+ billion (USD)</td>\n",
       "      <td>Avnet, Ingram Micro, Tech Data</td>\n",
       "      <td>NaN</td>\n",
       "    </tr>\n",
       "    <tr>\n",
       "      <th>2250</th>\n",
       "      <td>2250</td>\n",
       "      <td>Technical Business Analyst (SQL, Data analytic...</td>\n",
       "      <td>$78K-$104K (Glassdoor est.)</td>\n",
       "      <td>Title: Technical Business Analyst (SQL, Data a...</td>\n",
       "      <td>-1.0</td>\n",
       "      <td>Spiceorb</td>\n",
       "      <td>Denver, CO</td>\n",
       "      <td>NaN</td>\n",
       "      <td>NaN</td>\n",
       "      <td>-1</td>\n",
       "      <td>NaN</td>\n",
       "      <td>NaN</td>\n",
       "      <td>NaN</td>\n",
       "      <td>NaN</td>\n",
       "      <td>NaN</td>\n",
       "      <td>NaN</td>\n",
       "    </tr>\n",
       "    <tr>\n",
       "      <th>2251</th>\n",
       "      <td>2251</td>\n",
       "      <td>Data Analyst 3, Customer Experience</td>\n",
       "      <td>$78K-$104K (Glassdoor est.)</td>\n",
       "      <td>Summary\\n\\nResponsible for working cross-funct...</td>\n",
       "      <td>3.1</td>\n",
       "      <td>Contingent Network Services\\n3.1</td>\n",
       "      <td>Centennial, CO</td>\n",
       "      <td>West Chester, OH</td>\n",
       "      <td>201 to 500 employees</td>\n",
       "      <td>1984</td>\n",
       "      <td>Company - Private</td>\n",
       "      <td>Enterprise Software &amp; Network Solutions</td>\n",
       "      <td>Information Technology</td>\n",
       "      <td>$25 to $50 million (USD)</td>\n",
       "      <td>NaN</td>\n",
       "      <td>NaN</td>\n",
       "    </tr>\n",
       "    <tr>\n",
       "      <th>2252</th>\n",
       "      <td>2252</td>\n",
       "      <td>Senior Quality Data Analyst</td>\n",
       "      <td>$78K-$104K (Glassdoor est.)</td>\n",
       "      <td>You.\\n\\nYou bring your body, mind, heart and s...</td>\n",
       "      <td>3.4</td>\n",
       "      <td>SCL Health\\n3.4</td>\n",
       "      <td>Broomfield, CO</td>\n",
       "      <td>Broomfield, CO</td>\n",
       "      <td>10000+ employees</td>\n",
       "      <td>1864</td>\n",
       "      <td>Nonprofit Organization</td>\n",
       "      <td>Health Care Services &amp; Hospitals</td>\n",
       "      <td>Health Care</td>\n",
       "      <td>$2 to $5 billion (USD)</td>\n",
       "      <td>Centura Health, HealthONE, Denver Health and H...</td>\n",
       "      <td>NaN</td>\n",
       "    </tr>\n",
       "  </tbody>\n",
       "</table>\n",
       "<p>2253 rows × 16 columns</p>\n",
       "</div>"
      ],
      "text/plain": [
       "      Unnamed: 0                                          Job Title  \\\n",
       "0              0  Data Analyst, Center on Immigration and Justic...   \n",
       "1              1                               Quality Data Analyst   \n",
       "2              2  Senior Data Analyst, Insights & Analytics Team...   \n",
       "3              3                                       Data Analyst   \n",
       "4              4                             Reporting Data Analyst   \n",
       "...          ...                                                ...   \n",
       "2248        2248  RQS - IHHA - 201900004460 -1q Data Security An...   \n",
       "2249        2249              Senior Data Analyst (Corporate Audit)   \n",
       "2250        2250  Technical Business Analyst (SQL, Data analytic...   \n",
       "2251        2251                Data Analyst 3, Customer Experience   \n",
       "2252        2252                        Senior Quality Data Analyst   \n",
       "\n",
       "                  Salary Estimate  \\\n",
       "0      $37K-$66K (Glassdoor est.)   \n",
       "1      $37K-$66K (Glassdoor est.)   \n",
       "2      $37K-$66K (Glassdoor est.)   \n",
       "3      $37K-$66K (Glassdoor est.)   \n",
       "4      $37K-$66K (Glassdoor est.)   \n",
       "...                           ...   \n",
       "2248  $78K-$104K (Glassdoor est.)   \n",
       "2249  $78K-$104K (Glassdoor est.)   \n",
       "2250  $78K-$104K (Glassdoor est.)   \n",
       "2251  $78K-$104K (Glassdoor est.)   \n",
       "2252  $78K-$104K (Glassdoor est.)   \n",
       "\n",
       "                                        Job Description  Rating  \\\n",
       "0     Are you eager to roll up your sleeves and harn...     3.2   \n",
       "1     Overview\\n\\nProvides analytical and technical ...     3.8   \n",
       "2     We’re looking for a Senior Data Analyst who ha...     3.4   \n",
       "3     Requisition NumberRR-0001939\\nRemote:Yes\\nWe c...     4.1   \n",
       "4     ABOUT FANDUEL GROUP\\n\\nFanDuel Group is a worl...     3.9   \n",
       "...                                                 ...     ...   \n",
       "2248  Maintains systems to protect data from unautho...     2.5   \n",
       "2249  Position:\\nSenior Data Analyst (Corporate Audi...     2.9   \n",
       "2250  Title: Technical Business Analyst (SQL, Data a...    -1.0   \n",
       "2251  Summary\\n\\nResponsible for working cross-funct...     3.1   \n",
       "2252  You.\\n\\nYou bring your body, mind, heart and s...     3.4   \n",
       "\n",
       "                                 Company Name        Location  \\\n",
       "0              Vera Institute of Justice\\n3.2    New York, NY   \n",
       "1     Visiting Nurse Service of New York\\n3.8    New York, NY   \n",
       "2                            Squarespace\\n3.4    New York, NY   \n",
       "3                               Celerity\\n4.1    New York, NY   \n",
       "4                                FanDuel\\n3.9    New York, NY   \n",
       "...                                       ...             ...   \n",
       "2248                       Avacend, Inc.\\n2.5      Denver, CO   \n",
       "2249                   Arrow Electronics\\n2.9  Centennial, CO   \n",
       "2250                                 Spiceorb      Denver, CO   \n",
       "2251         Contingent Network Services\\n3.1  Centennial, CO   \n",
       "2252                          SCL Health\\n3.4  Broomfield, CO   \n",
       "\n",
       "          Headquarters                    Size  Founded  \\\n",
       "0         New York, NY    201 to 500 employees     1961   \n",
       "1         New York, NY        10000+ employees     1893   \n",
       "2         New York, NY  1001 to 5000 employees     2003   \n",
       "3           McLean, VA    201 to 500 employees     2002   \n",
       "4         New York, NY   501 to 1000 employees     2009   \n",
       "...                ...                     ...      ...   \n",
       "2248    Alpharetta, GA     51 to 200 employees       -1   \n",
       "2249    Centennial, CO        10000+ employees     1935   \n",
       "2250               NaN                     NaN       -1   \n",
       "2251  West Chester, OH    201 to 500 employees     1984   \n",
       "2252    Broomfield, CO        10000+ employees     1864   \n",
       "\n",
       "                   Type of ownership                                 Industry  \\\n",
       "0             Nonprofit Organization                        Social Assistance   \n",
       "1             Nonprofit Organization         Health Care Services & Hospitals   \n",
       "2                  Company - Private                                 Internet   \n",
       "3     Subsidiary or Business Segment                              IT Services   \n",
       "4                  Company - Private                      Sports & Recreation   \n",
       "...                              ...                                      ...   \n",
       "2248               Company - Private                   Staffing & Outsourcing   \n",
       "2249                Company - Public                                Wholesale   \n",
       "2250                             NaN                                      NaN   \n",
       "2251               Company - Private  Enterprise Software & Network Solutions   \n",
       "2252          Nonprofit Organization         Health Care Services & Hospitals   \n",
       "\n",
       "                                Sector                     Revenue  \\\n",
       "0                           Non-Profit  $100 to $500 million (USD)   \n",
       "1                          Health Care      $2 to $5 billion (USD)   \n",
       "2               Information Technology    Unknown / Non-Applicable   \n",
       "3               Information Technology   $50 to $100 million (USD)   \n",
       "4     Arts, Entertainment & Recreation  $100 to $500 million (USD)   \n",
       "...                                ...                         ...   \n",
       "2248                 Business Services    Unknown / Non-Applicable   \n",
       "2249                 Business Services          $10+ billion (USD)   \n",
       "2250                               NaN                         NaN   \n",
       "2251            Information Technology    $25 to $50 million (USD)   \n",
       "2252                       Health Care      $2 to $5 billion (USD)   \n",
       "\n",
       "                                            Competitors Easy Apply  \n",
       "0                                                   NaN       True  \n",
       "1                                                   NaN        NaN  \n",
       "2                                               GoDaddy        NaN  \n",
       "3                                                   NaN        NaN  \n",
       "4                                            DraftKings       True  \n",
       "...                                                 ...        ...  \n",
       "2248                                                NaN        NaN  \n",
       "2249                     Avnet, Ingram Micro, Tech Data        NaN  \n",
       "2250                                                NaN        NaN  \n",
       "2251                                                NaN        NaN  \n",
       "2252  Centura Health, HealthONE, Denver Health and H...        NaN  \n",
       "\n",
       "[2253 rows x 16 columns]"
      ]
     },
     "execution_count": 14,
     "metadata": {},
     "output_type": "execute_result"
    }
   ],
   "source": [
    "Data_Analyst.replace('-1',np.nan)"
   ]
  },
  {
   "cell_type": "code",
   "execution_count": 16,
   "id": "56cddc31-6180-448f-b7bc-7b88cacf9f00",
   "metadata": {},
   "outputs": [],
   "source": [
    "Data_Analyst.replace(-1,np.nan, inplace=True)\n",
    "Data_Analyst.replace('-1',np.nan, inplace=True)\n",
    "Data_Analyst.replace(-1.0,np.nan, inplace=True)"
   ]
  },
  {
   "cell_type": "code",
   "execution_count": 17,
   "id": "3864c3ce-b885-4d90-bf56-d6c29f7ceec3",
   "metadata": {},
   "outputs": [
    {
     "data": {
      "text/plain": [
       "Unnamed: 0              0\n",
       "Job Title               0\n",
       "Salary Estimate         1\n",
       "Job Description         0\n",
       "Rating                272\n",
       "Company Name            1\n",
       "Location                0\n",
       "Headquarters          172\n",
       "Size                  163\n",
       "Founded               660\n",
       "Type of ownership     163\n",
       "Industry              353\n",
       "Sector                353\n",
       "Revenue               163\n",
       "Competitors          1732\n",
       "Easy Apply           2173\n",
       "dtype: int64"
      ]
     },
     "execution_count": 17,
     "metadata": {},
     "output_type": "execute_result"
    }
   ],
   "source": [
    "Data_Analyst.isnull().sum()"
   ]
  },
  {
   "cell_type": "markdown",
   "id": "401fe880-5534-4ad2-a30c-01b6bbed182a",
   "metadata": {},
   "source": [
    "### In this EDA, We will Focus on\n",
    " - Job Title\n",
    " - Salary Estimate\n",
    " - Job Descripition\n",
    " - Rating\n",
    " - Company Name\n",
    " - Industry\n",
    " - Sector"
   ]
  },
  {
   "cell_type": "markdown",
   "id": "e9060b40-20d0-4b7e-9ff5-5a3b3906fe1d",
   "metadata": {},
   "source": [
    "## Job Title"
   ]
  },
  {
   "cell_type": "code",
   "execution_count": 18,
   "id": "9d59f385-ed4d-4ab6-aa22-9ce094e9278c",
   "metadata": {},
   "outputs": [
    {
     "data": {
      "text/plain": [
       "Data Analyst                        405\n",
       "Senior Data Analyst                  90\n",
       "Junior Data Analyst                  30\n",
       "Business Data Analyst                28\n",
       "Sr. Data Analyst                     21\n",
       "                                   ... \n",
       "Data Analyst – Level II               1\n",
       "Data Analyst/Programmer               1\n",
       "Data Services Business Analyst 2      1\n",
       "Call Center Data Analyst              1\n",
       "Senior Quality Data Analyst           1\n",
       "Name: Job Title, Length: 1272, dtype: int64"
      ]
     },
     "execution_count": 18,
     "metadata": {},
     "output_type": "execute_result"
    }
   ],
   "source": [
    "Data_Analyst['Job Title'].value_counts()"
   ]
  },
  {
   "cell_type": "code",
   "execution_count": 32,
   "id": "e8d1a6cd-bc48-4a18-ab60-48254f51087f",
   "metadata": {},
   "outputs": [
    {
     "data": {
      "text/plain": [
       "Data Analyst               405\n",
       "Senior Data Analyst        121\n",
       "Junior Data Analyst         49\n",
       "Business Data Analyst       28\n",
       "Data Quality Analyst        17\n",
       "Data Analyst II             17\n",
       "Data Governance Analyst     16\n",
       "Lead Data Analyst           15\n",
       "Data Reporting Analyst      13\n",
       "Financial Data Analyst      12\n",
       "Data Analyst I              11\n",
       "Data Analyst III            11\n",
       "Marketing Data Analyst       9\n",
       "Data Management Analyst      8\n",
       "Data Warehouse Analyst       8\n",
       "Technical Data Analyst       7\n",
       "Data Science Analyst         7\n",
       "SQL Data Analyst             7\n",
       "Data Security Analyst        6\n",
       "Research Data Analyst        6\n",
       "Name: Job Title, dtype: int64"
      ]
     },
     "execution_count": 32,
     "metadata": {},
     "output_type": "execute_result"
    }
   ],
   "source": [
    "Data_Analyst['Job Title'].value_counts()[:20]"
   ]
  },
  {
   "cell_type": "code",
   "execution_count": 30,
   "id": "c4d1e78c-469d-4e29-9da2-ae58e9fab6d7",
   "metadata": {
    "collapsed": true,
    "jupyter": {
     "outputs_hidden": true
    },
    "tags": []
   },
   "outputs": [
    {
     "name": "stderr",
     "output_type": "stream",
     "text": [
      "/var/folders/16/j2l0172d1_v6rp974ydx_wz80000gn/T/ipykernel_15558/2725267885.py:1: FutureWarning: The default value of regex will change from True to False in a future version.\n",
      "  Data_Analyst['Job Title'] = Data_Analyst['Job Title'].str.replace ('Sr. Data Analyst', 'Senior Data Analyst')\n",
      "/var/folders/16/j2l0172d1_v6rp974ydx_wz80000gn/T/ipykernel_15558/2725267885.py:4: FutureWarning: The default value of regex will change from True to False in a future version.\n",
      "  Data_Analyst['Job Title'] = Data_Analyst['Job Title'].str.replace ('Jr. Data Analyst', 'Junior Data Analyst')\n"
     ]
    }
   ],
   "source": [
    "Data_Analyst['Job Title'] = Data_Analyst['Job Title'].str.replace ('Sr. Data Analyst', 'Senior Data Analyst')\n",
    "Data_Analyst['Job Title'] = Data_Analyst['Job Title'].str.replace ('Sr Data Analyst', 'Senior Data Analyst')\n",
    "Data_Analyst['Job Title'] = Data_Analyst['Job Title'].str.replace ('Data Analyst Senior', 'Senior Data Analyst')\n",
    "Data_Analyst['Job Title'] = Data_Analyst['Job Title'].str.replace ('Jr. Data Analyst', 'Junior Data Analyst')\n",
    "Data_Analyst['Job Title'] = Data_Analyst['Job Title'].str.replace ('Data Analyst Junior', 'Junior Data Analyst')"
   ]
  },
  {
   "cell_type": "code",
   "execution_count": 33,
   "id": "ddacde2b-0b42-429b-8071-442ae8e32e4d",
   "metadata": {},
   "outputs": [
    {
     "data": {
      "text/plain": [
       "Data Analyst               405\n",
       "Senior Data Analyst        121\n",
       "Junior Data Analyst         49\n",
       "Business Data Analyst       28\n",
       "Data Quality Analyst        17\n",
       "Data Analyst II             17\n",
       "Data Governance Analyst     16\n",
       "Lead Data Analyst           15\n",
       "Data Reporting Analyst      13\n",
       "Financial Data Analyst      12\n",
       "Data Analyst I              11\n",
       "Data Analyst III            11\n",
       "Marketing Data Analyst       9\n",
       "Data Management Analyst      8\n",
       "Data Warehouse Analyst       8\n",
       "Technical Data Analyst       7\n",
       "Data Science Analyst         7\n",
       "SQL Data Analyst             7\n",
       "Data Security Analyst        6\n",
       "Research Data Analyst        6\n",
       "Name: Job Title, dtype: int64"
      ]
     },
     "execution_count": 33,
     "metadata": {},
     "output_type": "execute_result"
    }
   ],
   "source": [
    "Data_Analyst['Job Title'].value_counts()[:20]"
   ]
  },
  {
   "cell_type": "code",
   "execution_count": 35,
   "id": "174163d2-ea82-4985-8768-a21082de79c8",
   "metadata": {},
   "outputs": [
    {
     "data": {
      "text/plain": [
       "0"
      ]
     },
     "execution_count": 35,
     "metadata": {},
     "output_type": "execute_result"
    }
   ],
   "source": [
    "Data_Analyst['Job Title'].isnull().sum()"
   ]
  },
  {
   "cell_type": "markdown",
   "id": "88adfc2b-765a-4701-bee0-75692b5aa081",
   "metadata": {},
   "source": [
    "### Salary Estimate"
   ]
  },
  {
   "cell_type": "code",
   "execution_count": 36,
   "id": "f5275f28-7af4-438a-8818-ca2050793128",
   "metadata": {},
   "outputs": [
    {
     "data": {
      "text/plain": [
       "0        $37K-$66K (Glassdoor est.)\n",
       "1        $37K-$66K (Glassdoor est.)\n",
       "2        $37K-$66K (Glassdoor est.)\n",
       "3        $37K-$66K (Glassdoor est.)\n",
       "4        $37K-$66K (Glassdoor est.)\n",
       "                   ...             \n",
       "2248    $78K-$104K (Glassdoor est.)\n",
       "2249    $78K-$104K (Glassdoor est.)\n",
       "2250    $78K-$104K (Glassdoor est.)\n",
       "2251    $78K-$104K (Glassdoor est.)\n",
       "2252    $78K-$104K (Glassdoor est.)\n",
       "Name: Salary Estimate, Length: 2253, dtype: object"
      ]
     },
     "execution_count": 36,
     "metadata": {},
     "output_type": "execute_result"
    }
   ],
   "source": [
    "Data_Analyst['Salary Estimate']"
   ]
  },
  {
   "cell_type": "code",
   "execution_count": 37,
   "id": "a4ed7dd9-b473-4ddb-a72c-fdb36a851c84",
   "metadata": {},
   "outputs": [
    {
     "data": {
      "text/plain": [
       "1"
      ]
     },
     "execution_count": 37,
     "metadata": {},
     "output_type": "execute_result"
    }
   ],
   "source": [
    "Data_Analyst['Salary Estimate'].isnull().sum()"
   ]
  },
  {
   "cell_type": "markdown",
   "id": "727502bd-4f76-443e-a3f2-660bc8cfbbea",
   "metadata": {},
   "source": [
    "### First lets find row with the missing values in the salary estimate column"
   ]
  },
  {
   "cell_type": "code",
   "execution_count": 38,
   "id": "b64f7a9c-953a-4e35-96f4-075afb5669c2",
   "metadata": {},
   "outputs": [
    {
     "data": {
      "text/html": [
       "<div>\n",
       "<style scoped>\n",
       "    .dataframe tbody tr th:only-of-type {\n",
       "        vertical-align: middle;\n",
       "    }\n",
       "\n",
       "    .dataframe tbody tr th {\n",
       "        vertical-align: top;\n",
       "    }\n",
       "\n",
       "    .dataframe thead th {\n",
       "        text-align: right;\n",
       "    }\n",
       "</style>\n",
       "<table border=\"1\" class=\"dataframe\">\n",
       "  <thead>\n",
       "    <tr style=\"text-align: right;\">\n",
       "      <th></th>\n",
       "      <th>Unnamed: 0</th>\n",
       "      <th>Job Title</th>\n",
       "      <th>Salary Estimate</th>\n",
       "      <th>Job Description</th>\n",
       "      <th>Rating</th>\n",
       "      <th>Company Name</th>\n",
       "      <th>Location</th>\n",
       "      <th>Headquarters</th>\n",
       "      <th>Size</th>\n",
       "      <th>Founded</th>\n",
       "      <th>Type of ownership</th>\n",
       "      <th>Industry</th>\n",
       "      <th>Sector</th>\n",
       "      <th>Revenue</th>\n",
       "      <th>Competitors</th>\n",
       "      <th>Easy Apply</th>\n",
       "    </tr>\n",
       "  </thead>\n",
       "  <tbody>\n",
       "    <tr>\n",
       "      <th>2149</th>\n",
       "      <td>2149</td>\n",
       "      <td>Configuration/Data Management Analyst III</td>\n",
       "      <td>NaN</td>\n",
       "      <td>Job Description\\nPosition Title: Configuration...</td>\n",
       "      <td>4.4</td>\n",
       "      <td>Protingent\\n4.4</td>\n",
       "      <td>Kent, WA</td>\n",
       "      <td>Bellevue, WA</td>\n",
       "      <td>51 to 200 employees</td>\n",
       "      <td>2001.0</td>\n",
       "      <td>Company - Private</td>\n",
       "      <td>Staffing &amp; Outsourcing</td>\n",
       "      <td>Business Services</td>\n",
       "      <td>$25 to $50 million (USD)</td>\n",
       "      <td>NaN</td>\n",
       "      <td>NaN</td>\n",
       "    </tr>\n",
       "  </tbody>\n",
       "</table>\n",
       "</div>"
      ],
      "text/plain": [
       "      Unnamed: 0                                  Job Title Salary Estimate  \\\n",
       "2149        2149  Configuration/Data Management Analyst III             NaN   \n",
       "\n",
       "                                        Job Description  Rating  \\\n",
       "2149  Job Description\\nPosition Title: Configuration...     4.4   \n",
       "\n",
       "         Company Name  Location  Headquarters                 Size  Founded  \\\n",
       "2149  Protingent\\n4.4  Kent, WA  Bellevue, WA  51 to 200 employees   2001.0   \n",
       "\n",
       "      Type of ownership                Industry             Sector  \\\n",
       "2149  Company - Private  Staffing & Outsourcing  Business Services   \n",
       "\n",
       "                       Revenue Competitors Easy Apply  \n",
       "2149  $25 to $50 million (USD)         NaN        NaN  "
      ]
     },
     "execution_count": 38,
     "metadata": {},
     "output_type": "execute_result"
    }
   ],
   "source": [
    "Data_Analyst[Data_Analyst['Salary Estimate'].isnull()]"
   ]
  },
  {
   "cell_type": "markdown",
   "id": "4b5d4c83-86d1-43d5-9926-a0a5943fa806",
   "metadata": {},
   "source": [
    "### Lets see this company has any other Advrtisement"
   ]
  },
  {
   "cell_type": "code",
   "execution_count": 39,
   "id": "42851f3e-ced5-46b7-a338-dbd4d7e6ec2b",
   "metadata": {},
   "outputs": [
    {
     "data": {
      "text/html": [
       "<div>\n",
       "<style scoped>\n",
       "    .dataframe tbody tr th:only-of-type {\n",
       "        vertical-align: middle;\n",
       "    }\n",
       "\n",
       "    .dataframe tbody tr th {\n",
       "        vertical-align: top;\n",
       "    }\n",
       "\n",
       "    .dataframe thead th {\n",
       "        text-align: right;\n",
       "    }\n",
       "</style>\n",
       "<table border=\"1\" class=\"dataframe\">\n",
       "  <thead>\n",
       "    <tr style=\"text-align: right;\">\n",
       "      <th></th>\n",
       "      <th>Unnamed: 0</th>\n",
       "      <th>Job Title</th>\n",
       "      <th>Salary Estimate</th>\n",
       "      <th>Job Description</th>\n",
       "      <th>Rating</th>\n",
       "      <th>Company Name</th>\n",
       "      <th>Location</th>\n",
       "      <th>Headquarters</th>\n",
       "      <th>Size</th>\n",
       "      <th>Founded</th>\n",
       "      <th>Type of ownership</th>\n",
       "      <th>Industry</th>\n",
       "      <th>Sector</th>\n",
       "      <th>Revenue</th>\n",
       "      <th>Competitors</th>\n",
       "      <th>Easy Apply</th>\n",
       "    </tr>\n",
       "  </thead>\n",
       "  <tbody>\n",
       "    <tr>\n",
       "      <th>2123</th>\n",
       "      <td>2123</td>\n",
       "      <td>Engines Configuration and Data Management Analyst</td>\n",
       "      <td>$55K-$101K (Glassdoor est.)</td>\n",
       "      <td>Job Description\\nPosition Title: Engines Confi...</td>\n",
       "      <td>4.4</td>\n",
       "      <td>Protingent\\n4.4</td>\n",
       "      <td>Kent, WA</td>\n",
       "      <td>Bellevue, WA</td>\n",
       "      <td>51 to 200 employees</td>\n",
       "      <td>2001.0</td>\n",
       "      <td>Company - Private</td>\n",
       "      <td>Staffing &amp; Outsourcing</td>\n",
       "      <td>Business Services</td>\n",
       "      <td>$25 to $50 million (USD)</td>\n",
       "      <td>NaN</td>\n",
       "      <td>NaN</td>\n",
       "    </tr>\n",
       "    <tr>\n",
       "      <th>2149</th>\n",
       "      <td>2149</td>\n",
       "      <td>Configuration/Data Management Analyst III</td>\n",
       "      <td>NaN</td>\n",
       "      <td>Job Description\\nPosition Title: Configuration...</td>\n",
       "      <td>4.4</td>\n",
       "      <td>Protingent\\n4.4</td>\n",
       "      <td>Kent, WA</td>\n",
       "      <td>Bellevue, WA</td>\n",
       "      <td>51 to 200 employees</td>\n",
       "      <td>2001.0</td>\n",
       "      <td>Company - Private</td>\n",
       "      <td>Staffing &amp; Outsourcing</td>\n",
       "      <td>Business Services</td>\n",
       "      <td>$25 to $50 million (USD)</td>\n",
       "      <td>NaN</td>\n",
       "      <td>NaN</td>\n",
       "    </tr>\n",
       "  </tbody>\n",
       "</table>\n",
       "</div>"
      ],
      "text/plain": [
       "      Unnamed: 0                                          Job Title  \\\n",
       "2123        2123  Engines Configuration and Data Management Analyst   \n",
       "2149        2149          Configuration/Data Management Analyst III   \n",
       "\n",
       "                  Salary Estimate  \\\n",
       "2123  $55K-$101K (Glassdoor est.)   \n",
       "2149                          NaN   \n",
       "\n",
       "                                        Job Description  Rating  \\\n",
       "2123  Job Description\\nPosition Title: Engines Confi...     4.4   \n",
       "2149  Job Description\\nPosition Title: Configuration...     4.4   \n",
       "\n",
       "         Company Name  Location  Headquarters                 Size  Founded  \\\n",
       "2123  Protingent\\n4.4  Kent, WA  Bellevue, WA  51 to 200 employees   2001.0   \n",
       "2149  Protingent\\n4.4  Kent, WA  Bellevue, WA  51 to 200 employees   2001.0   \n",
       "\n",
       "      Type of ownership                Industry             Sector  \\\n",
       "2123  Company - Private  Staffing & Outsourcing  Business Services   \n",
       "2149  Company - Private  Staffing & Outsourcing  Business Services   \n",
       "\n",
       "                       Revenue Competitors Easy Apply  \n",
       "2123  $25 to $50 million (USD)         NaN        NaN  \n",
       "2149  $25 to $50 million (USD)         NaN        NaN  "
      ]
     },
     "execution_count": 39,
     "metadata": {},
     "output_type": "execute_result"
    }
   ],
   "source": [
    "Data_Analyst[Data_Analyst['Company Name']=='Protingent\\n4.4']"
   ]
  },
  {
   "cell_type": "markdown",
   "id": "023a265c-240a-4fc4-ad2d-a9ae59fdd764",
   "metadata": {},
   "source": [
    "### WE have another advertisement from the same company, Let see the Job Description"
   ]
  },
  {
   "cell_type": "code",
   "execution_count": 40,
   "id": "55d5f171-dd69-497c-b6dc-525cfa153db7",
   "metadata": {},
   "outputs": [
    {
     "data": {
      "text/plain": [
       "'Job Description\\nPosition Title: Engines Configuration and Data Management Analyst\\n\\nPosition Description: Protingent Staffing has an exciting contract opportunity with our client in Kent, WA.\\n\\nJob Qualifications:\\nAA/AS or BA/BS in a related technical or liberal arts discipline\\n3+ years of direct product configuration management experience (Product structure, parts, drawings, documents and requirements management)\\n2+ years of experience working in a highly regulated environment (aerospace, nuclear, government, medical device, etc.)\\nExperience working with software related to configuration management of complex product\\nWorking knowledge of configuration management principles and practices\\nFamiliar with product lifecycle management (PLM) and/or data management tools\\nPossess high attention to detail and strong organizational/coordination skills\\nProficient in Microsoft Office applications (Word, Excel, PowerPoint).\\nExperience in aerospace industry\\nProficient in technical writing of process and procedure\\nExperience using Windchill, Creo, DOORS, Confluence, and Jira\\nFamiliarity with Export Control regulations (EAR/ITAR)\\nAbout Protingent: Protingent is a niche provider of top Engineering and IT talent to Software, Electronics, Medical Device, Telecom and Aerospace companies nationwide. Protingent exists to make a positive impact and contribution to the lives of others as well as our community by providing relevant, rewarding and exciting work opportunities for our candidates.\\n\\nBenefits Package: Protingent offers competitive salary, 100% paid health insurance, education/certification reimbursement, pre-tax commuter benefits, Paid Time Off (PTO) and an administered 401k plan.'"
      ]
     },
     "execution_count": 40,
     "metadata": {},
     "output_type": "execute_result"
    }
   ],
   "source": [
    "Data_Analyst['Job Description'][2123]"
   ]
  },
  {
   "cell_type": "code",
   "execution_count": 41,
   "id": "fcfb3b69-3691-455e-b9b7-7ae0d9328053",
   "metadata": {},
   "outputs": [
    {
     "data": {
      "text/plain": [
       "'Job Description\\nPosition Title: Configuration/Data Management Analyst III\\n\\nPosition Description: Protingent has an opportunity for a Configuration Analyst in Kent, WA.\\n\\nJob Qualifications:\\nAA/AS or BA/BS in a related technical or liberal arts discipline\\n5-7 years of direct product configuration management experience (Product structure, parts, drawings and requirements management experience highly desired).\\n3+ years of experience working in a highly regulated environment (security systems, medical device, aerospace, etc.).\\nDeep experience with world-class toolsets for configuration management in complex products\\nProven ability to communicate effectively both in writing and verbally with staff at all levels of the organization and external stakeholders, including regulatory agencies, customers and suppliers.\\nExcellent technical writing and presentation skills.\\nProficient with configuration management principles and practices\\nProficient with product lifecycle management (PLM) and/or data management tools\\nProficient in Microsoft Office applications (Word, Excel, PowerPoint)\\nFamiliarity with export control (EAR/ITAR) regulations\\nCMII certification/training\\nExperience in aerospace or aviation\\nExperience with Windchill, Creo, ERP/MES systems\\nExperience with DOORS Next Generation\\nExperience with Confluence & JIRA\\nDatabase skills with SQL, queries, etc\\nAbout Protingent: Protingent is a niche provider of top Engineering and IT talent to Software, Electronics, Medical Device, Telecom and Aerospace companies nationwide. Protingent exists to make a positive impact and contribution to the lives of others as well as our community by providing relevant, rewarding and exciting work opportunities for our candidates.\\n\\nBenefits Package: Protingent offers competitive salary, 100% paid health insurance, education/certification reimbursement, pre-tax commuter benefits, Paid Time Off (PTO) and an administered 401k plan.'"
      ]
     },
     "execution_count": 41,
     "metadata": {},
     "output_type": "execute_result"
    }
   ],
   "source": [
    "Data_Analyst['Job Description'][2149]"
   ]
  },
  {
   "cell_type": "markdown",
   "id": "e95c4553-1177-401c-82e3-3783aa118b0f",
   "metadata": {
    "tags": []
   },
   "source": [
    "### From the above Description, even although there are similarities in the job description, job in the missing values row need more qualifications than the previous one Based the given info we can not assume same salary estimate for the missing salary estimate value\n",
    "### Better drop the missing value row"
   ]
  },
  {
   "cell_type": "code",
   "execution_count": 42,
   "id": "97faafa7-98be-421c-85a4-b097ce300a87",
   "metadata": {},
   "outputs": [],
   "source": [
    "Data_Analyst.drop(2149, inplace=True)"
   ]
  },
  {
   "cell_type": "code",
   "execution_count": 43,
   "id": "eeb89017-5c47-4de4-a556-2b43e0a40ba0",
   "metadata": {},
   "outputs": [
    {
     "data": {
      "text/plain": [
       "0"
      ]
     },
     "execution_count": 43,
     "metadata": {},
     "output_type": "execute_result"
    }
   ],
   "source": [
    "Data_Analyst['Salary Estimate'].isnull().sum()"
   ]
  },
  {
   "cell_type": "markdown",
   "id": "20b69cba-0d54-4106-b08e-3d1f88c6a6fe",
   "metadata": {},
   "source": [
    "### To get Numeric values from Salary Estimate"
   ]
  },
  {
   "cell_type": "code",
   "execution_count": 44,
   "id": "c49d3dcf-89dc-495d-8da2-3e7aa3862ba6",
   "metadata": {},
   "outputs": [
    {
     "data": {
      "text/plain": [
       "8       $37K-$66K (Glassdoor est.)\n",
       "1604    $58K-$93K (Glassdoor est.)\n",
       "2166    $57K-$67K (Glassdoor est.)\n",
       "Name: Salary Estimate, dtype: object"
      ]
     },
     "execution_count": 44,
     "metadata": {},
     "output_type": "execute_result"
    }
   ],
   "source": [
    "Data_Analyst['Salary Estimate'].sample(3)"
   ]
  },
  {
   "cell_type": "markdown",
   "id": "6bad48d2-fd06-4a34-99c8-88e2c7e19e6d",
   "metadata": {},
   "source": [
    "### Lets get the numbers out of it by using the numbers, lets make\n",
    " - maximum salary column\n",
    " - minimum salary column\n",
    " - average salary column"
   ]
  },
  {
   "cell_type": "code",
   "execution_count": 67,
   "id": "e7c576a9-955f-474d-b75b-d19a2290f48d",
   "metadata": {},
   "outputs": [],
   "source": [
    "Data_Analyst['Salary_minium']= Data_Analyst['Salary Estimate'].str.lstrip('$').str[:3].str.replace('K','').str.strip().astype('float')\n",
    "Data_Analyst['Salary_maximum']= Data_Analyst['Salary Estimate'].str[6:10].str.replace('K','').str.lstrip('$').astype('float')\n",
    "Data_Analyst['Salary_Average'] = (Data_Analyst['Salary_maximum']+Data_Analyst['Salary_minium'])/2"
   ]
  },
  {
   "cell_type": "code",
   "execution_count": 68,
   "id": "1b35967f-9382-4e23-ab69-436a19a73f72",
   "metadata": {},
   "outputs": [
    {
     "data": {
      "text/html": [
       "<div>\n",
       "<style scoped>\n",
       "    .dataframe tbody tr th:only-of-type {\n",
       "        vertical-align: middle;\n",
       "    }\n",
       "\n",
       "    .dataframe tbody tr th {\n",
       "        vertical-align: top;\n",
       "    }\n",
       "\n",
       "    .dataframe thead th {\n",
       "        text-align: right;\n",
       "    }\n",
       "</style>\n",
       "<table border=\"1\" class=\"dataframe\">\n",
       "  <thead>\n",
       "    <tr style=\"text-align: right;\">\n",
       "      <th></th>\n",
       "      <th>Salary Estimate</th>\n",
       "      <th>Salary_minium</th>\n",
       "      <th>Salary_maximum</th>\n",
       "      <th>Salary_Average</th>\n",
       "    </tr>\n",
       "  </thead>\n",
       "  <tbody>\n",
       "    <tr>\n",
       "      <th>105</th>\n",
       "      <td>$51K-$87K (Glassdoor est.)</td>\n",
       "      <td>51.0</td>\n",
       "      <td>87.0</td>\n",
       "      <td>69.0</td>\n",
       "    </tr>\n",
       "    <tr>\n",
       "      <th>1603</th>\n",
       "      <td>$58K-$93K (Glassdoor est.)</td>\n",
       "      <td>58.0</td>\n",
       "      <td>93.0</td>\n",
       "      <td>75.5</td>\n",
       "    </tr>\n",
       "    <tr>\n",
       "      <th>16</th>\n",
       "      <td>$37K-$66K (Glassdoor est.)</td>\n",
       "      <td>37.0</td>\n",
       "      <td>66.0</td>\n",
       "      <td>51.5</td>\n",
       "    </tr>\n",
       "    <tr>\n",
       "      <th>1959</th>\n",
       "      <td>$93K-$159K (Glassdoor est.)</td>\n",
       "      <td>93.0</td>\n",
       "      <td>159.0</td>\n",
       "      <td>126.0</td>\n",
       "    </tr>\n",
       "    <tr>\n",
       "      <th>760</th>\n",
       "      <td>$73K-$82K (Glassdoor est.)</td>\n",
       "      <td>73.0</td>\n",
       "      <td>82.0</td>\n",
       "      <td>77.5</td>\n",
       "    </tr>\n",
       "    <tr>\n",
       "      <th>2048</th>\n",
       "      <td>$47K-$74K (Glassdoor est.)</td>\n",
       "      <td>47.0</td>\n",
       "      <td>74.0</td>\n",
       "      <td>60.5</td>\n",
       "    </tr>\n",
       "    <tr>\n",
       "      <th>155</th>\n",
       "      <td>$43K-$76K (Glassdoor est.)</td>\n",
       "      <td>43.0</td>\n",
       "      <td>76.0</td>\n",
       "      <td>59.5</td>\n",
       "    </tr>\n",
       "    <tr>\n",
       "      <th>1283</th>\n",
       "      <td>$60K-$124K (Glassdoor est.)</td>\n",
       "      <td>60.0</td>\n",
       "      <td>124.0</td>\n",
       "      <td>92.0</td>\n",
       "    </tr>\n",
       "    <tr>\n",
       "      <th>496</th>\n",
       "      <td>$49K-$112K (Glassdoor est.)</td>\n",
       "      <td>49.0</td>\n",
       "      <td>112.0</td>\n",
       "      <td>80.5</td>\n",
       "    </tr>\n",
       "    <tr>\n",
       "      <th>1837</th>\n",
       "      <td>$54K-$75K (Glassdoor est.)</td>\n",
       "      <td>54.0</td>\n",
       "      <td>75.0</td>\n",
       "      <td>64.5</td>\n",
       "    </tr>\n",
       "  </tbody>\n",
       "</table>\n",
       "</div>"
      ],
      "text/plain": [
       "                  Salary Estimate  Salary_minium  Salary_maximum  \\\n",
       "105    $51K-$87K (Glassdoor est.)           51.0            87.0   \n",
       "1603   $58K-$93K (Glassdoor est.)           58.0            93.0   \n",
       "16     $37K-$66K (Glassdoor est.)           37.0            66.0   \n",
       "1959  $93K-$159K (Glassdoor est.)           93.0           159.0   \n",
       "760    $73K-$82K (Glassdoor est.)           73.0            82.0   \n",
       "2048   $47K-$74K (Glassdoor est.)           47.0            74.0   \n",
       "155    $43K-$76K (Glassdoor est.)           43.0            76.0   \n",
       "1283  $60K-$124K (Glassdoor est.)           60.0           124.0   \n",
       "496   $49K-$112K (Glassdoor est.)           49.0           112.0   \n",
       "1837   $54K-$75K (Glassdoor est.)           54.0            75.0   \n",
       "\n",
       "      Salary_Average  \n",
       "105             69.0  \n",
       "1603            75.5  \n",
       "16              51.5  \n",
       "1959           126.0  \n",
       "760             77.5  \n",
       "2048            60.5  \n",
       "155             59.5  \n",
       "1283            92.0  \n",
       "496             80.5  \n",
       "1837            64.5  "
      ]
     },
     "execution_count": 68,
     "metadata": {},
     "output_type": "execute_result"
    }
   ],
   "source": [
    "Data_Analyst[['Salary Estimate', 'Salary_minium','Salary_maximum','Salary_Average']].sample(10)"
   ]
  },
  {
   "cell_type": "code",
   "execution_count": 69,
   "id": "1da49a0a-b48f-4eb0-95ce-8e5048b0533b",
   "metadata": {},
   "outputs": [
    {
     "data": {
      "text/plain": [
       "0"
      ]
     },
     "execution_count": 69,
     "metadata": {},
     "output_type": "execute_result"
    }
   ],
   "source": [
    "Data_Analyst['Job Description'].isnull().sum()"
   ]
  },
  {
   "cell_type": "markdown",
   "id": "e125e324-20a0-485e-b792-1f9fb6cfce26",
   "metadata": {},
   "source": [
    "### First Start with Python and see how many job description contains/ require knowledge of Python"
   ]
  },
  {
   "cell_type": "code",
   "execution_count": 70,
   "id": "a39f21cb-824b-40b6-9b5a-649add6b7b57",
   "metadata": {},
   "outputs": [
    {
     "data": {
      "text/plain": [
       "False    1615\n",
       "True      637\n",
       "Name: python_job, dtype: int64"
      ]
     },
     "execution_count": 70,
     "metadata": {},
     "output_type": "execute_result"
    }
   ],
   "source": [
    "Data_Analyst['python_job'] = Data_Analyst['Job Description'].str.contains('python',na=False, case=False)\n",
    "Data_Analyst['python_job'].value_counts()"
   ]
  },
  {
   "cell_type": "code",
   "execution_count": 71,
   "id": "26218eeb-9949-453a-a54b-98dc305aa242",
   "metadata": {},
   "outputs": [
    {
     "data": {
      "text/plain": [
       "True     1388\n",
       "False     864\n",
       "Name: sql_job, dtype: int64"
      ]
     },
     "execution_count": 71,
     "metadata": {},
     "output_type": "execute_result"
    }
   ],
   "source": [
    "Data_Analyst['sql_job'] = Data_Analyst['Job Description'].str.contains('sql',na=False, case=False)\n",
    "Data_Analyst['sql_job'].value_counts()"
   ]
  },
  {
   "cell_type": "code",
   "execution_count": 72,
   "id": "1886d9a1-5809-4397-aa50-27b5214ebc9b",
   "metadata": {},
   "outputs": [
    {
     "data": {
      "text/plain": [
       "True     1353\n",
       "False     899\n",
       "Name: excel_job, dtype: int64"
      ]
     },
     "execution_count": 72,
     "metadata": {},
     "output_type": "execute_result"
    }
   ],
   "source": [
    "Data_Analyst['excel_job'] = Data_Analyst['Job Description'].str.contains('excel',na=False, case=False)\n",
    "Data_Analyst['excel_job'].value_counts()"
   ]
  },
  {
   "cell_type": "code",
   "execution_count": 73,
   "id": "dba7d93a-a91c-41e5-8414-c7ca4915fc19",
   "metadata": {},
   "outputs": [
    {
     "data": {
      "text/plain": [
       "False    1632\n",
       "True      620\n",
       "Name: tableau_job, dtype: int64"
      ]
     },
     "execution_count": 73,
     "metadata": {},
     "output_type": "execute_result"
    }
   ],
   "source": [
    "Data_Analyst['tableau_job'] = Data_Analyst['Job Description'].str.contains('tableau',na=False, case=False)\n",
    "Data_Analyst['tableau_job'].value_counts()"
   ]
  },
  {
   "cell_type": "code",
   "execution_count": 74,
   "id": "7f3c59e3-2aaf-4af2-88a9-a10424d3f98b",
   "metadata": {},
   "outputs": [
    {
     "data": {
      "text/plain": [
       "1665    4.6\n",
       "997     NaN\n",
       "949     4.0\n",
       "712     3.6\n",
       "80      4.8\n",
       "193     3.1\n",
       "1073    3.9\n",
       "900     4.3\n",
       "994     3.4\n",
       "2089    3.4\n",
       "Name: Rating, dtype: float64"
      ]
     },
     "execution_count": 74,
     "metadata": {},
     "output_type": "execute_result"
    }
   ],
   "source": [
    "Data_Analyst['Rating'].sample(10)"
   ]
  },
  {
   "cell_type": "markdown",
   "id": "62def625-b431-498b-9aea-973e1a6eae90",
   "metadata": {},
   "source": [
    "### Company Name"
   ]
  },
  {
   "cell_type": "code",
   "execution_count": 76,
   "id": "26a9bd25-8710-4d63-b431-7652fb44c2e7",
   "metadata": {},
   "outputs": [
    {
     "data": {
      "text/plain": [
       "2121                    LendingTree, LLC.\\n3.7\n",
       "1634           APN Software Services Inc.\\n4.1\n",
       "1764              Abercrombie & Fitch Co.\\n3.5\n",
       "1446                             Ho Chunk\\n2.8\n",
       "1675                               NVIDIA\\n4.6\n",
       "1817              Conch Technologies, Inc\\n4.6\n",
       "1426              Lorven Technologies Inc\\n4.0\n",
       "1631              Lorven Technologies Inc\\n4.0\n",
       "1752    Prudent Technologies & Consulting\\n4.2\n",
       "106      Crossfire Consulting Corporation\\n5.0\n",
       "Name: Company Name, dtype: object"
      ]
     },
     "execution_count": 76,
     "metadata": {},
     "output_type": "execute_result"
    }
   ],
   "source": [
    "Data_Analyst['Company Name'].sample(10)"
   ]
  },
  {
   "cell_type": "markdown",
   "id": "f1d7a861-599e-433e-abdf-815037487ea7",
   "metadata": {},
   "source": [
    "### There is Something weird with The Company Names, it inclues number which probaly reflect their rating socre"
   ]
  },
  {
   "cell_type": "code",
   "execution_count": 77,
   "id": "e86ddbf6-2c3d-4f24-8e1c-cf048f82ccc4",
   "metadata": {},
   "outputs": [
    {
     "data": {
      "text/html": [
       "<div>\n",
       "<style scoped>\n",
       "    .dataframe tbody tr th:only-of-type {\n",
       "        vertical-align: middle;\n",
       "    }\n",
       "\n",
       "    .dataframe tbody tr th {\n",
       "        vertical-align: top;\n",
       "    }\n",
       "\n",
       "    .dataframe thead th {\n",
       "        text-align: right;\n",
       "    }\n",
       "</style>\n",
       "<table border=\"1\" class=\"dataframe\">\n",
       "  <thead>\n",
       "    <tr style=\"text-align: right;\">\n",
       "      <th></th>\n",
       "      <th>Company Name</th>\n",
       "      <th>Rating</th>\n",
       "    </tr>\n",
       "  </thead>\n",
       "  <tbody>\n",
       "    <tr>\n",
       "      <th>156</th>\n",
       "      <td>COUNCIL ON ACCREDITATION\\n3.8</td>\n",
       "      <td>3.8</td>\n",
       "    </tr>\n",
       "    <tr>\n",
       "      <th>1671</th>\n",
       "      <td>Healthgrades\\n2.8</td>\n",
       "      <td>2.8</td>\n",
       "    </tr>\n",
       "    <tr>\n",
       "      <th>1365</th>\n",
       "      <td>North Central Texas Council of Governments\\n2.6</td>\n",
       "      <td>2.6</td>\n",
       "    </tr>\n",
       "    <tr>\n",
       "      <th>1051</th>\n",
       "      <td>Crisis Response Network\\n3.8</td>\n",
       "      <td>3.8</td>\n",
       "    </tr>\n",
       "    <tr>\n",
       "      <th>2077</th>\n",
       "      <td>Vespa Group LLC\\n2.8</td>\n",
       "      <td>2.8</td>\n",
       "    </tr>\n",
       "  </tbody>\n",
       "</table>\n",
       "</div>"
      ],
      "text/plain": [
       "                                         Company Name  Rating\n",
       "156                     COUNCIL ON ACCREDITATION\\n3.8     3.8\n",
       "1671                                Healthgrades\\n2.8     2.8\n",
       "1365  North Central Texas Council of Governments\\n2.6     2.6\n",
       "1051                     Crisis Response Network\\n3.8     3.8\n",
       "2077                             Vespa Group LLC\\n2.8     2.8"
      ]
     },
     "execution_count": 77,
     "metadata": {},
     "output_type": "execute_result"
    }
   ],
   "source": [
    "Data_Analyst[['Company Name', 'Rating']].sample(5)"
   ]
  },
  {
   "cell_type": "markdown",
   "id": "bd73a6fe-1b1a-47d2-979b-3a32152dfc63",
   "metadata": {},
   "source": [
    "### Lets Safely Remove Rating Part from the Company Name"
   ]
  },
  {
   "cell_type": "code",
   "execution_count": 78,
   "id": "d94bbde7-0014-40d8-a4cc-128ee72474f5",
   "metadata": {},
   "outputs": [
    {
     "data": {
      "text/plain": [
       "2246                Spiceorb\n",
       "1223    CDO Technologies Inc\n",
       "26                  Duolingo\n",
       "Name: Company Name, dtype: object"
      ]
     },
     "execution_count": 78,
     "metadata": {},
     "output_type": "execute_result"
    }
   ],
   "source": [
    "Data_Analyst['Company Name'] = Data_Analyst['Company Name'].str.split('\\n').str[0]\n",
    "Data_Analyst['Company Name'].sample(3)"
   ]
  },
  {
   "cell_type": "markdown",
   "id": "43198143-21f1-4eaa-a013-72cd20653650",
   "metadata": {},
   "source": [
    "### Let see any missing value in Company Name"
   ]
  },
  {
   "cell_type": "code",
   "execution_count": 79,
   "id": "1ce1019e-bcf8-4ac0-8333-c39844178ebe",
   "metadata": {},
   "outputs": [
    {
     "data": {
      "text/plain": [
       "1"
      ]
     },
     "execution_count": 79,
     "metadata": {},
     "output_type": "execute_result"
    }
   ],
   "source": [
    "Data_Analyst['Company Name'].isnull().sum()"
   ]
  },
  {
   "cell_type": "code",
   "execution_count": 80,
   "id": "877707ec-5427-4591-8c53-1e7080eb6d36",
   "metadata": {},
   "outputs": [
    {
     "data": {
      "text/html": [
       "<div>\n",
       "<style scoped>\n",
       "    .dataframe tbody tr th:only-of-type {\n",
       "        vertical-align: middle;\n",
       "    }\n",
       "\n",
       "    .dataframe tbody tr th {\n",
       "        vertical-align: top;\n",
       "    }\n",
       "\n",
       "    .dataframe thead th {\n",
       "        text-align: right;\n",
       "    }\n",
       "</style>\n",
       "<table border=\"1\" class=\"dataframe\">\n",
       "  <thead>\n",
       "    <tr style=\"text-align: right;\">\n",
       "      <th></th>\n",
       "      <th>Unnamed: 0</th>\n",
       "      <th>Job Title</th>\n",
       "      <th>Salary Estimate</th>\n",
       "      <th>Job Description</th>\n",
       "      <th>Rating</th>\n",
       "      <th>Company Name</th>\n",
       "      <th>Location</th>\n",
       "      <th>Headquarters</th>\n",
       "      <th>Size</th>\n",
       "      <th>Founded</th>\n",
       "      <th>...</th>\n",
       "      <th>Revenue</th>\n",
       "      <th>Competitors</th>\n",
       "      <th>Easy Apply</th>\n",
       "      <th>Salary_minium</th>\n",
       "      <th>Salary_maximum</th>\n",
       "      <th>Salary_Average</th>\n",
       "      <th>python_job</th>\n",
       "      <th>sql_job</th>\n",
       "      <th>excel_job</th>\n",
       "      <th>tableau_job</th>\n",
       "    </tr>\n",
       "  </thead>\n",
       "  <tbody>\n",
       "    <tr>\n",
       "      <th>1860</th>\n",
       "      <td>1860</td>\n",
       "      <td>Data Analyst</td>\n",
       "      <td>$53K-$99K (Glassdoor est.)</td>\n",
       "      <td>Kindred at Home, part of the Kindred at Home f...</td>\n",
       "      <td>NaN</td>\n",
       "      <td>NaN</td>\n",
       "      <td>Mooresville, NC</td>\n",
       "      <td>NaN</td>\n",
       "      <td>NaN</td>\n",
       "      <td>NaN</td>\n",
       "      <td>...</td>\n",
       "      <td>NaN</td>\n",
       "      <td>NaN</td>\n",
       "      <td>NaN</td>\n",
       "      <td>53.0</td>\n",
       "      <td>99.0</td>\n",
       "      <td>76.0</td>\n",
       "      <td>False</td>\n",
       "      <td>True</td>\n",
       "      <td>True</td>\n",
       "      <td>False</td>\n",
       "    </tr>\n",
       "  </tbody>\n",
       "</table>\n",
       "<p>1 rows × 23 columns</p>\n",
       "</div>"
      ],
      "text/plain": [
       "      Unnamed: 0     Job Title             Salary Estimate  \\\n",
       "1860        1860  Data Analyst  $53K-$99K (Glassdoor est.)   \n",
       "\n",
       "                                        Job Description  Rating Company Name  \\\n",
       "1860  Kindred at Home, part of the Kindred at Home f...     NaN          NaN   \n",
       "\n",
       "             Location Headquarters Size  Founded  ... Revenue Competitors  \\\n",
       "1860  Mooresville, NC          NaN  NaN      NaN  ...     NaN         NaN   \n",
       "\n",
       "     Easy Apply Salary_minium Salary_maximum Salary_Average  python_job  \\\n",
       "1860        NaN          53.0           99.0           76.0       False   \n",
       "\n",
       "      sql_job  excel_job  tableau_job  \n",
       "1860     True       True        False  \n",
       "\n",
       "[1 rows x 23 columns]"
      ]
     },
     "execution_count": 80,
     "metadata": {},
     "output_type": "execute_result"
    }
   ],
   "source": [
    "Data_Analyst[Data_Analyst['Company Name'].isnull()]"
   ]
  },
  {
   "cell_type": "code",
   "execution_count": 81,
   "id": "9d926a71-7baa-4351-98d1-79b78d810de6",
   "metadata": {},
   "outputs": [
    {
     "data": {
      "text/plain": [
       "IT Services                            325\n",
       "Staffing & Outsourcing                 322\n",
       "Health Care Services & Hospitals       151\n",
       "Computer Hardware & Software           111\n",
       "Consulting                             111\n",
       "                                      ... \n",
       "Truck Rental & Leasing                   1\n",
       "News Outlet                              1\n",
       "Catering & Food Service Contractors      1\n",
       "Chemical Manufacturing                   1\n",
       "Hotels, Motels, & Resorts                1\n",
       "Name: Industry, Length: 88, dtype: int64"
      ]
     },
     "execution_count": 81,
     "metadata": {},
     "output_type": "execute_result"
    }
   ],
   "source": [
    "Data_Analyst['Industry'].value_counts()"
   ]
  },
  {
   "cell_type": "code",
   "execution_count": 82,
   "id": "93955dcd-821c-4ac5-aa11-ded19d18b7b4",
   "metadata": {},
   "outputs": [
    {
     "data": {
      "text/plain": [
       "353"
      ]
     },
     "execution_count": 82,
     "metadata": {},
     "output_type": "execute_result"
    }
   ],
   "source": [
    "Data_Analyst['Industry'].isnull().sum()"
   ]
  },
  {
   "cell_type": "code",
   "execution_count": 83,
   "id": "cf70cf6f-5261-462f-a481-36ce228637d8",
   "metadata": {},
   "outputs": [
    {
     "data": {
      "text/plain": [
       "Information Technology                570\n",
       "Business Services                     523\n",
       "Finance                               169\n",
       "Health Care                           151\n",
       "Education                              52\n",
       "Insurance                              51\n",
       "Accounting & Legal                     43\n",
       "Media                                  42\n",
       "Manufacturing                          40\n",
       "Retail                                 38\n",
       "Government                             36\n",
       "Biotech & Pharmaceuticals              33\n",
       "Non-Profit                             26\n",
       "Aerospace & Defense                    22\n",
       "Transportation & Logistics             20\n",
       "Construction, Repair & Maintenance     16\n",
       "Consumer Services                      14\n",
       "Oil, Gas, Energy & Utilities           13\n",
       "Real Estate                            12\n",
       "Telecommunications                     11\n",
       "Restaurants, Bars & Food Services       8\n",
       "Arts, Entertainment & Recreation        7\n",
       "Mining & Metals                         1\n",
       "Travel & Tourism                        1\n",
       "Name: Sector, dtype: int64"
      ]
     },
     "execution_count": 83,
     "metadata": {},
     "output_type": "execute_result"
    }
   ],
   "source": [
    "Data_Analyst['Sector'].value_counts()"
   ]
  },
  {
   "cell_type": "code",
   "execution_count": 84,
   "id": "8523f2cb-75aa-4ce1-837e-40f8115479f6",
   "metadata": {},
   "outputs": [
    {
     "data": {
      "text/plain": [
       "353"
      ]
     },
     "execution_count": 84,
     "metadata": {},
     "output_type": "execute_result"
    }
   ],
   "source": [
    "Data_Analyst['Sector'].isnull().sum()"
   ]
  },
  {
   "cell_type": "markdown",
   "id": "253fdea7-d688-41f1-80a0-81b05f9f2119",
   "metadata": {},
   "source": [
    "### Analysis Part"
   ]
  },
  {
   "cell_type": "markdown",
   "id": "01d59b51-5e1a-4f41-a214-a4ea9736dc7d",
   "metadata": {},
   "source": [
    "### Lets Start the analysis part with needed Variables, namely\n",
    " - Job Title\n",
    " - Rating\n",
    " - Company Name\n",
    " - Industry\n",
    " - Sector\n",
    " - Salary Minimum\n",
    " - Salary Maximum\n",
    " - Salary Average\n",
    " - Python Job\n",
    " - Sql Job\n",
    " - Excel Job\n",
    " - Tableau Job"
   ]
  },
  {
   "cell_type": "code",
   "execution_count": 85,
   "id": "1f216d18-b459-4b43-b3bd-be90fe2508b8",
   "metadata": {},
   "outputs": [
    {
     "data": {
      "text/plain": [
       "Index(['Unnamed: 0', 'Job Title', 'Salary Estimate', 'Job Description',\n",
       "       'Rating', 'Company Name', 'Location', 'Headquarters', 'Size', 'Founded',\n",
       "       'Type of ownership', 'Industry', 'Sector', 'Revenue', 'Competitors',\n",
       "       'Easy Apply', 'Salary_minium', 'Salary_maximum', 'Salary_Average',\n",
       "       'python_job', 'sql_job', 'excel_job', 'tableau_job'],\n",
       "      dtype='object')"
      ]
     },
     "execution_count": 85,
     "metadata": {},
     "output_type": "execute_result"
    }
   ],
   "source": [
    "Data_Analyst.columns"
   ]
  },
  {
   "cell_type": "code",
   "execution_count": 87,
   "id": "326cba10-bd13-4908-8104-1f1e761258ff",
   "metadata": {},
   "outputs": [
    {
     "data": {
      "text/html": [
       "<div>\n",
       "<style scoped>\n",
       "    .dataframe tbody tr th:only-of-type {\n",
       "        vertical-align: middle;\n",
       "    }\n",
       "\n",
       "    .dataframe tbody tr th {\n",
       "        vertical-align: top;\n",
       "    }\n",
       "\n",
       "    .dataframe thead th {\n",
       "        text-align: right;\n",
       "    }\n",
       "</style>\n",
       "<table border=\"1\" class=\"dataframe\">\n",
       "  <thead>\n",
       "    <tr style=\"text-align: right;\">\n",
       "      <th></th>\n",
       "      <th>Job Title</th>\n",
       "      <th>Rating</th>\n",
       "      <th>Industry</th>\n",
       "      <th>Salary_minium</th>\n",
       "      <th>Salary_maximum</th>\n",
       "      <th>Salary_Average</th>\n",
       "      <th>python_job</th>\n",
       "      <th>sql_job</th>\n",
       "      <th>excel_job</th>\n",
       "      <th>tableau_job</th>\n",
       "    </tr>\n",
       "  </thead>\n",
       "  <tbody>\n",
       "    <tr>\n",
       "      <th>0</th>\n",
       "      <td>Data Analyst, Center on Immigration and Justic...</td>\n",
       "      <td>3.2</td>\n",
       "      <td>Social Assistance</td>\n",
       "      <td>37.0</td>\n",
       "      <td>66.0</td>\n",
       "      <td>51.5</td>\n",
       "      <td>True</td>\n",
       "      <td>True</td>\n",
       "      <td>False</td>\n",
       "      <td>False</td>\n",
       "    </tr>\n",
       "    <tr>\n",
       "      <th>1</th>\n",
       "      <td>Quality Data Analyst</td>\n",
       "      <td>3.8</td>\n",
       "      <td>Health Care Services &amp; Hospitals</td>\n",
       "      <td>37.0</td>\n",
       "      <td>66.0</td>\n",
       "      <td>51.5</td>\n",
       "      <td>False</td>\n",
       "      <td>True</td>\n",
       "      <td>True</td>\n",
       "      <td>False</td>\n",
       "    </tr>\n",
       "    <tr>\n",
       "      <th>2</th>\n",
       "      <td>Senior Data Analyst, Insights &amp; Analytics Team...</td>\n",
       "      <td>3.4</td>\n",
       "      <td>Internet</td>\n",
       "      <td>37.0</td>\n",
       "      <td>66.0</td>\n",
       "      <td>51.5</td>\n",
       "      <td>True</td>\n",
       "      <td>True</td>\n",
       "      <td>True</td>\n",
       "      <td>True</td>\n",
       "    </tr>\n",
       "    <tr>\n",
       "      <th>3</th>\n",
       "      <td>Data Analyst</td>\n",
       "      <td>4.1</td>\n",
       "      <td>IT Services</td>\n",
       "      <td>37.0</td>\n",
       "      <td>66.0</td>\n",
       "      <td>51.5</td>\n",
       "      <td>False</td>\n",
       "      <td>True</td>\n",
       "      <td>False</td>\n",
       "      <td>True</td>\n",
       "    </tr>\n",
       "    <tr>\n",
       "      <th>4</th>\n",
       "      <td>Reporting Data Analyst</td>\n",
       "      <td>3.9</td>\n",
       "      <td>Sports &amp; Recreation</td>\n",
       "      <td>37.0</td>\n",
       "      <td>66.0</td>\n",
       "      <td>51.5</td>\n",
       "      <td>True</td>\n",
       "      <td>True</td>\n",
       "      <td>True</td>\n",
       "      <td>False</td>\n",
       "    </tr>\n",
       "  </tbody>\n",
       "</table>\n",
       "</div>"
      ],
      "text/plain": [
       "                                           Job Title  Rating  \\\n",
       "0  Data Analyst, Center on Immigration and Justic...     3.2   \n",
       "1                               Quality Data Analyst     3.8   \n",
       "2  Senior Data Analyst, Insights & Analytics Team...     3.4   \n",
       "3                                       Data Analyst     4.1   \n",
       "4                             Reporting Data Analyst     3.9   \n",
       "\n",
       "                           Industry  Salary_minium  Salary_maximum  \\\n",
       "0                 Social Assistance           37.0            66.0   \n",
       "1  Health Care Services & Hospitals           37.0            66.0   \n",
       "2                          Internet           37.0            66.0   \n",
       "3                       IT Services           37.0            66.0   \n",
       "4               Sports & Recreation           37.0            66.0   \n",
       "\n",
       "   Salary_Average  python_job  sql_job  excel_job  tableau_job  \n",
       "0            51.5        True     True      False        False  \n",
       "1            51.5       False     True       True        False  \n",
       "2            51.5        True     True       True         True  \n",
       "3            51.5       False     True      False         True  \n",
       "4            51.5        True     True       True        False  "
      ]
     },
     "execution_count": 87,
     "metadata": {},
     "output_type": "execute_result"
    }
   ],
   "source": [
    "Data_Analyst1 = Data_Analyst[['Job Title','Rating', 'Industry',\n",
    "        'Salary_minium', 'Salary_maximum', 'Salary_Average',\n",
    "       'python_job', 'sql_job', 'excel_job', 'tableau_job']]\n",
    "Data_Analyst1.head()\n",
    "     "
   ]
  },
  {
   "cell_type": "code",
   "execution_count": 88,
   "id": "25247895-8b0c-42f4-a072-4e45cc8b2241",
   "metadata": {},
   "outputs": [
    {
     "data": {
      "text/plain": [
       "Job Title           0\n",
       "Rating            272\n",
       "Industry          353\n",
       "Salary_minium       0\n",
       "Salary_maximum      0\n",
       "Salary_Average      0\n",
       "python_job          0\n",
       "sql_job             0\n",
       "excel_job           0\n",
       "tableau_job         0\n",
       "dtype: int64"
      ]
     },
     "execution_count": 88,
     "metadata": {},
     "output_type": "execute_result"
    }
   ],
   "source": [
    "Data_Analyst1.isnull().sum()"
   ]
  },
  {
   "cell_type": "code",
   "execution_count": 90,
   "id": "df43f32e-aa9c-44ce-8285-8935f38bf3e3",
   "metadata": {},
   "outputs": [
    {
     "data": {
      "text/html": [
       "<div>\n",
       "<style scoped>\n",
       "    .dataframe tbody tr th:only-of-type {\n",
       "        vertical-align: middle;\n",
       "    }\n",
       "\n",
       "    .dataframe tbody tr th {\n",
       "        vertical-align: top;\n",
       "    }\n",
       "\n",
       "    .dataframe thead th {\n",
       "        text-align: right;\n",
       "    }\n",
       "</style>\n",
       "<table border=\"1\" class=\"dataframe\">\n",
       "  <thead>\n",
       "    <tr style=\"text-align: right;\">\n",
       "      <th></th>\n",
       "      <th>Rating</th>\n",
       "      <th>Salary_minium</th>\n",
       "      <th>Salary_maximum</th>\n",
       "      <th>Salary_Average</th>\n",
       "    </tr>\n",
       "  </thead>\n",
       "  <tbody>\n",
       "    <tr>\n",
       "      <th>count</th>\n",
       "      <td>1980.000000</td>\n",
       "      <td>2252.000000</td>\n",
       "      <td>2252.000000</td>\n",
       "      <td>2252.000000</td>\n",
       "    </tr>\n",
       "    <tr>\n",
       "      <th>mean</th>\n",
       "      <td>3.731566</td>\n",
       "      <td>54.266874</td>\n",
       "      <td>89.979130</td>\n",
       "      <td>72.123002</td>\n",
       "    </tr>\n",
       "    <tr>\n",
       "      <th>std</th>\n",
       "      <td>0.670333</td>\n",
       "      <td>19.575375</td>\n",
       "      <td>29.315605</td>\n",
       "      <td>23.600734</td>\n",
       "    </tr>\n",
       "    <tr>\n",
       "      <th>min</th>\n",
       "      <td>1.000000</td>\n",
       "      <td>24.000000</td>\n",
       "      <td>38.000000</td>\n",
       "      <td>33.500000</td>\n",
       "    </tr>\n",
       "    <tr>\n",
       "      <th>25%</th>\n",
       "      <td>3.300000</td>\n",
       "      <td>41.000000</td>\n",
       "      <td>70.000000</td>\n",
       "      <td>58.000000</td>\n",
       "    </tr>\n",
       "    <tr>\n",
       "      <th>50%</th>\n",
       "      <td>3.700000</td>\n",
       "      <td>50.000000</td>\n",
       "      <td>87.000000</td>\n",
       "      <td>69.000000</td>\n",
       "    </tr>\n",
       "    <tr>\n",
       "      <th>75%</th>\n",
       "      <td>4.100000</td>\n",
       "      <td>64.000000</td>\n",
       "      <td>104.000000</td>\n",
       "      <td>80.500000</td>\n",
       "    </tr>\n",
       "    <tr>\n",
       "      <th>max</th>\n",
       "      <td>5.000000</td>\n",
       "      <td>113.000000</td>\n",
       "      <td>190.000000</td>\n",
       "      <td>150.000000</td>\n",
       "    </tr>\n",
       "  </tbody>\n",
       "</table>\n",
       "</div>"
      ],
      "text/plain": [
       "            Rating  Salary_minium  Salary_maximum  Salary_Average\n",
       "count  1980.000000    2252.000000     2252.000000     2252.000000\n",
       "mean      3.731566      54.266874       89.979130       72.123002\n",
       "std       0.670333      19.575375       29.315605       23.600734\n",
       "min       1.000000      24.000000       38.000000       33.500000\n",
       "25%       3.300000      41.000000       70.000000       58.000000\n",
       "50%       3.700000      50.000000       87.000000       69.000000\n",
       "75%       4.100000      64.000000      104.000000       80.500000\n",
       "max       5.000000     113.000000      190.000000      150.000000"
      ]
     },
     "execution_count": 90,
     "metadata": {},
     "output_type": "execute_result"
    }
   ],
   "source": [
    "Data_Analyst1.describe()"
   ]
  },
  {
   "cell_type": "markdown",
   "id": "0705b7ea-444c-4502-a4c2-e948743c311b",
   "metadata": {},
   "source": [
    "### Lets Look at the information we can get above the table\n",
    " - Average and also median value for the ratings of the companies very close to 4\n",
    " - Average minimum salry is aroumd 54k and median value for minimum salary is around 50k\n",
    " - Average maximum Salary is almost 90k\n",
    " - Average salary is around 72k"
   ]
  },
  {
   "cell_type": "code",
   "execution_count": 93,
   "id": "6eadcd6f-9ac6-4304-8597-15ec8a038b90",
   "metadata": {},
   "outputs": [],
   "source": [
    "import matplotlib.pyplot as plt"
   ]
  },
  {
   "cell_type": "code",
   "execution_count": 104,
   "id": "e4011787-7350-47ba-a2d5-151b37919b88",
   "metadata": {},
   "outputs": [
    {
     "data": {
      "text/plain": [
       "<function matplotlib.pyplot.show(close=None, block=None)>"
      ]
     },
     "execution_count": 104,
     "metadata": {},
     "output_type": "execute_result"
    },
    {
     "data": {
      "image/png": "[encoded data removed]",
      "text/plain": [
       "<Figure size 432x288 with 1 Axes>"
      ]
     },
     "metadata": {
      "needs_background": "light"
     },
     "output_type": "display_data"
    }
   ],
   "source": [
    "fig = plt.hist(Data_Analyst1['Salary_minium'])\n",
    "plt.xlabel('Salary_minimum')\n",
    "plt.ylabel('Count')\n",
    "plt.title('Minimum Salary of Data Analyst')\n",
    "plt.show"
   ]
  },
  {
   "cell_type": "markdown",
   "id": "670e9a33-16b7-41a3-b2c7-2b3991d636a6",
   "metadata": {},
   "source": [
    "### As seen in the graph, Minimum Salary for Data Analyst is average bewteen 40-60k"
   ]
  },
  {
   "cell_type": "code",
   "execution_count": 106,
   "id": "d3813536-b474-46ff-9e36-cd5a63db8b31",
   "metadata": {},
   "outputs": [
    {
     "data": {
      "text/plain": [
       "<function matplotlib.pyplot.show(close=None, block=None)>"
      ]
     },
     "execution_count": 106,
     "metadata": {},
     "output_type": "execute_result"
    },
    {
     "data": {
      "image/png": "[encoded data removed]",
      "text/plain": [
       "<Figure size 432x288 with 1 Axes>"
      ]
     },
     "metadata": {
      "needs_background": "light"
     },
     "output_type": "display_data"
    }
   ],
   "source": [
    "fig = plt.hist(Data_Analyst1['Salary_maximum'])\n",
    "plt.xlabel('Salary_maximum')\n",
    "plt.ylabel('Count')\n",
    "plt.title('Maximum Salary of Data Analyst')\n",
    "plt.show"
   ]
  },
  {
   "cell_type": "markdown",
   "id": "228dc2ca-90b6-4ee4-9040-b5de196d24c9",
   "metadata": {},
   "source": [
    "### As seen in the Histogram, maximum Salry for the Data Analyst is an average bewteen 67-95k. But we have quite skewed distribution"
   ]
  },
  {
   "cell_type": "code",
   "execution_count": 108,
   "id": "6dc5e59f-7188-4273-862f-87f4d3fd75db",
   "metadata": {},
   "outputs": [
    {
     "data": {
      "text/plain": [
       "<function matplotlib.pyplot.show(close=None, block=None)>"
      ]
     },
     "execution_count": 108,
     "metadata": {},
     "output_type": "execute_result"
    },
    {
     "data": {
      "image/png": "[encoded data removed]",
      "text/plain": [
       "<Figure size 432x288 with 1 Axes>"
      ]
     },
     "metadata": {
      "needs_background": "light"
     },
     "output_type": "display_data"
    }
   ],
   "source": [
    "fig = plt.hist(Data_Analyst1['Salary_Average'])\n",
    "plt.xlabel('Salary_Average')\n",
    "plt.ylabel('Count')\n",
    "plt.title('Salary Average of Data Analyst')\n",
    "plt.show"
   ]
  },
  {
   "cell_type": "markdown",
   "id": "5c30fa1f-72e7-4487-95e0-71b760b826f9",
   "metadata": {},
   "source": [
    "### As seen in the historgram, average salary data Analyst is an average bewteen 55-80k"
   ]
  },
  {
   "cell_type": "markdown",
   "id": "2c7ca367-4b78-49ce-8d58-af1526ecb1c6",
   "metadata": {},
   "source": [
    "## Job Openings by Job Title\n",
    "### Lets see the top Job titles in the Data Analyst Job Advertisements"
   ]
  },
  {
   "cell_type": "code",
   "execution_count": 110,
   "id": "b56a3357-40cc-4f1e-966c-ffdeed9f542d",
   "metadata": {},
   "outputs": [
    {
     "data": {
      "text/plain": [
       "Data Analyst               405\n",
       "Senior Data Analyst        121\n",
       "Junior Data Analyst         49\n",
       "Business Data Analyst       28\n",
       "Data Analyst II             17\n",
       "Data Quality Analyst        17\n",
       "Data Governance Analyst     16\n",
       "Lead Data Analyst           15\n",
       "Data Reporting Analyst      13\n",
       "Financial Data Analyst      12\n",
       "Data Analyst I              11\n",
       "Data Analyst III            11\n",
       "Marketing Data Analyst       9\n",
       "Data Management Analyst      8\n",
       "Data Warehouse Analyst       8\n",
       "Data Science Analyst         7\n",
       "SQL Data Analyst             7\n",
       "Technical Data Analyst       7\n",
       "Healthcare Data Analyst      6\n",
       "Research Data Analyst        6\n",
       "Name: Job Title, dtype: int64"
      ]
     },
     "execution_count": 110,
     "metadata": {},
     "output_type": "execute_result"
    }
   ],
   "source": [
    "Data_Analyst1['Job Title'].value_counts()[:20]"
   ]
  },
  {
   "cell_type": "markdown",
   "id": "34bd0e19-087b-459d-860e-9cbcc7d74541",
   "metadata": {},
   "source": [
    "## As shown in the Table\n",
    " - Data Analyst\n",
    " - Senior Data Analyst\n",
    " - Junior Data Analyst\n",
    " - Business Data Analyst are the most used in the titles in the job Advertisements\n",
    "    "
   ]
  },
  {
   "cell_type": "markdown",
   "id": "ec03b81c-c0ba-4166-b6b9-1e71fea3195e",
   "metadata": {},
   "source": [
    "### Job openings by Industry"
   ]
  },
  {
   "cell_type": "code",
   "execution_count": 113,
   "id": "beb82b88-e299-451f-a3ae-307df4624f1f",
   "metadata": {},
   "outputs": [
    {
     "data": {
      "text/plain": [
       "IT Services                                325\n",
       "Staffing & Outsourcing                     322\n",
       "Health Care Services & Hospitals           151\n",
       "Computer Hardware & Software               111\n",
       "Consulting                                 111\n",
       "Investment Banking & Asset Management       78\n",
       "Enterprise Software & Network Solutions     69\n",
       "Internet                                    65\n",
       "Advertising & Marketing                     51\n",
       "Banks & Credit Unions                       51\n",
       "Insurance Carriers                          47\n",
       "Colleges & Universities                     40\n",
       "Accounting                                  39\n",
       "Biotech & Pharmaceuticals                   33\n",
       "Social Assistance                           23\n",
       "Aerospace & Defense                         22\n",
       "Video Games                                 20\n",
       "Lending                                     15\n",
       "State & Regional Agencies                   15\n",
       "Health, Beauty, & Fitness                   13\n",
       "Name: Industry, dtype: int64"
      ]
     },
     "execution_count": 113,
     "metadata": {},
     "output_type": "execute_result"
    }
   ],
   "source": [
    "Data_Analyst1['Industry'].value_counts()[:20]"
   ]
  },
  {
   "cell_type": "markdown",
   "id": "7ca0d3ae-e731-4852-b9de-f9289208419b",
   "metadata": {},
   "source": [
    "### As shown in the table\n",
    " -  IT Services\n",
    " - Staffing & OutSourcing\n",
    " - Health Care Services & Hopistals\n",
    " - Computer Hardware & Software are the most data analyst job openinds advertised industries\n"
   ]
  },
  {
   "cell_type": "code",
   "execution_count": 114,
   "id": "82ae689c-7c07-4979-82bd-be5cf88fc6ea",
   "metadata": {},
   "outputs": [
    {
     "data": {
      "text/plain": [
       "Information Technology                570\n",
       "Business Services                     523\n",
       "Finance                               169\n",
       "Health Care                           151\n",
       "Education                              52\n",
       "Insurance                              51\n",
       "Accounting & Legal                     43\n",
       "Media                                  42\n",
       "Manufacturing                          40\n",
       "Retail                                 38\n",
       "Government                             36\n",
       "Biotech & Pharmaceuticals              33\n",
       "Non-Profit                             26\n",
       "Aerospace & Defense                    22\n",
       "Transportation & Logistics             20\n",
       "Construction, Repair & Maintenance     16\n",
       "Consumer Services                      14\n",
       "Oil, Gas, Energy & Utilities           13\n",
       "Real Estate                            12\n",
       "Telecommunications                     11\n",
       "Name: Sector, dtype: int64"
      ]
     },
     "execution_count": 114,
     "metadata": {},
     "output_type": "execute_result"
    }
   ],
   "source": [
    "Data_Analyst['Sector'].value_counts()[:20]"
   ]
  },
  {
   "cell_type": "markdown",
   "id": "a89f8402-a943-469b-ae50-e4acc55654f8",
   "metadata": {},
   "source": [
    "### As shown above:\n",
    " - Information Technology\n",
    " - Business Services\n",
    " - Finance\n",
    " - Health Care are the most data analyst job openings\n",
    "    "
   ]
  },
  {
   "cell_type": "markdown",
   "id": "24061bce-e68e-4147-be6f-a697b8a2907b",
   "metadata": {},
   "source": [
    "#### Required Programming Languages & Program Skills by Job title"
   ]
  },
  {
   "cell_type": "code",
   "execution_count": 123,
   "id": "482a2c94-0120-41d9-8056-4ce66990fdb7",
   "metadata": {},
   "outputs": [
    {
     "data": {
      "text/html": [
       "<div>\n",
       "<style scoped>\n",
       "    .dataframe tbody tr th:only-of-type {\n",
       "        vertical-align: middle;\n",
       "    }\n",
       "\n",
       "    .dataframe tbody tr th {\n",
       "        vertical-align: top;\n",
       "    }\n",
       "\n",
       "    .dataframe thead th {\n",
       "        text-align: right;\n",
       "    }\n",
       "</style>\n",
       "<table border=\"1\" class=\"dataframe\">\n",
       "  <thead>\n",
       "    <tr style=\"text-align: right;\">\n",
       "      <th></th>\n",
       "      <th>Job Title</th>\n",
       "      <th>number_of_job_openings</th>\n",
       "      <th>python_job</th>\n",
       "      <th>sql_job</th>\n",
       "      <th>excel_job</th>\n",
       "      <th>tableau_job</th>\n",
       "    </tr>\n",
       "  </thead>\n",
       "  <tbody>\n",
       "    <tr>\n",
       "      <th>0</th>\n",
       "      <td>Data Analyst</td>\n",
       "      <td>405</td>\n",
       "      <td>125</td>\n",
       "      <td>301</td>\n",
       "      <td>239</td>\n",
       "      <td>110</td>\n",
       "    </tr>\n",
       "    <tr>\n",
       "      <th>1</th>\n",
       "      <td>Senior Data Analyst</td>\n",
       "      <td>121</td>\n",
       "      <td>68</td>\n",
       "      <td>104</td>\n",
       "      <td>67</td>\n",
       "      <td>64</td>\n",
       "    </tr>\n",
       "    <tr>\n",
       "      <th>2</th>\n",
       "      <td>Business Data Analyst</td>\n",
       "      <td>49</td>\n",
       "      <td>11</td>\n",
       "      <td>21</td>\n",
       "      <td>17</td>\n",
       "      <td>11</td>\n",
       "    </tr>\n",
       "    <tr>\n",
       "      <th>3</th>\n",
       "      <td>NY Healthcare Data/Reporting Analyst</td>\n",
       "      <td>28</td>\n",
       "      <td>5</td>\n",
       "      <td>5</td>\n",
       "      <td>5</td>\n",
       "      <td>5</td>\n",
       "    </tr>\n",
       "    <tr>\n",
       "      <th>4</th>\n",
       "      <td>Marketing Data Analyst</td>\n",
       "      <td>17</td>\n",
       "      <td>5</td>\n",
       "      <td>9</td>\n",
       "      <td>6</td>\n",
       "      <td>5</td>\n",
       "    </tr>\n",
       "    <tr>\n",
       "      <th>5</th>\n",
       "      <td>Data Analyst III (Healthcare Analytics)</td>\n",
       "      <td>17</td>\n",
       "      <td>5</td>\n",
       "      <td>5</td>\n",
       "      <td>5</td>\n",
       "      <td>5</td>\n",
       "    </tr>\n",
       "    <tr>\n",
       "      <th>6</th>\n",
       "      <td>Lead Data Analyst</td>\n",
       "      <td>16</td>\n",
       "      <td>5</td>\n",
       "      <td>13</td>\n",
       "      <td>7</td>\n",
       "      <td>10</td>\n",
       "    </tr>\n",
       "    <tr>\n",
       "      <th>7</th>\n",
       "      <td>TX Healthcare Data/Reporting Analyst</td>\n",
       "      <td>15</td>\n",
       "      <td>4</td>\n",
       "      <td>4</td>\n",
       "      <td>4</td>\n",
       "      <td>4</td>\n",
       "    </tr>\n",
       "    <tr>\n",
       "      <th>8</th>\n",
       "      <td>Data Analyst, Data &amp; Analytics (Advanced Analy...</td>\n",
       "      <td>13</td>\n",
       "      <td>4</td>\n",
       "      <td>4</td>\n",
       "      <td>0</td>\n",
       "      <td>4</td>\n",
       "    </tr>\n",
       "    <tr>\n",
       "      <th>9</th>\n",
       "      <td>Healthcare Data/Reporting Analyst</td>\n",
       "      <td>12</td>\n",
       "      <td>4</td>\n",
       "      <td>4</td>\n",
       "      <td>4</td>\n",
       "      <td>4</td>\n",
       "    </tr>\n",
       "  </tbody>\n",
       "</table>\n",
       "</div>"
      ],
      "text/plain": [
       "                                           Job Title  number_of_job_openings  \\\n",
       "0                                       Data Analyst                     405   \n",
       "1                                Senior Data Analyst                     121   \n",
       "2                              Business Data Analyst                      49   \n",
       "3               NY Healthcare Data/Reporting Analyst                      28   \n",
       "4                             Marketing Data Analyst                      17   \n",
       "5            Data Analyst III (Healthcare Analytics)                      17   \n",
       "6                                  Lead Data Analyst                      16   \n",
       "7               TX Healthcare Data/Reporting Analyst                      15   \n",
       "8  Data Analyst, Data & Analytics (Advanced Analy...                      13   \n",
       "9                  Healthcare Data/Reporting Analyst                      12   \n",
       "\n",
       "   python_job  sql_job  excel_job  tableau_job  \n",
       "0         125      301        239          110  \n",
       "1          68      104         67           64  \n",
       "2          11       21         17           11  \n",
       "3           5        5          5            5  \n",
       "4           5        9          6            5  \n",
       "5           5        5          5            5  \n",
       "6           5       13          7           10  \n",
       "7           4        4          4            4  \n",
       "8           4        4          0            4  \n",
       "9           4        4          4            4  "
      ]
     },
     "execution_count": 123,
     "metadata": {},
     "output_type": "execute_result"
    }
   ],
   "source": [
    "df4 = Data_Analyst1[['Job Title','python_job', 'sql_job','excel_job','tableau_job']].copy()\n",
    "Lang = df4.groupby('Job Title')[['python_job', 'sql_job','excel_job','tableau_job']].sum().sort_values(by='python_job', ascending=False).head(10)\n",
    "df_lang = pd.DataFrame(Lang)\n",
    "df_lang = df_lang.reset_index()\n",
    "\n",
    "df_lang['number_of_job_openings'] = Data_Analyst1['Job Title'].value_counts()[:10].values\n",
    "columnsTitles = ['Job Title','number_of_job_openings','python_job','sql_job','excel_job','tableau_job']\n",
    "df_lang = df_lang.reindex(columns=columnsTitles)\n",
    "df_lang"
   ]
  },
  {
   "cell_type": "markdown",
   "id": "fc1b290a-f6df-4f0e-bcef-2229ba81c31e",
   "metadata": {},
   "source": [
    "#### Based on the Chart we can assume that SQL and Excel is very important. As programming language Python is required almost 1 out of 3 in the Job market."
   ]
  },
  {
   "cell_type": "code",
   "execution_count": null,
   "id": "b4611e57-1d34-4065-bbce-2019fe9c646d",
   "metadata": {},
   "outputs": [],
   "source": []
  }
 ],
 "metadata": {
  "kernelspec": {
   "display_name": "Python 3 (ipykernel)",
   "language": "python",
   "name": "python3"
  },
  "language_info": {
   "codemirror_mode": {
    "name": "ipython",
    "version": 3
   },
   "file_extension": ".py",
   "mimetype": "text/x-python",
   "name": "python",
   "nbconvert_exporter": "python",
   "pygments_lexer": "ipython3",
   "version": "3.9.12"
  }
 },
 "nbformat": 4,
 "nbformat_minor": 5
}
